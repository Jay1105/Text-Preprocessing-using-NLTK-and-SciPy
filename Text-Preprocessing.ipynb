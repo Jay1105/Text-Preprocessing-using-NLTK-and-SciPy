{
  "nbformat": 4,
  "nbformat_minor": 0,
  "metadata": {
    "colab": {
      "provenance": []
    },
    "kernelspec": {
      "name": "python3",
      "display_name": "Python 3"
    },
    "language_info": {
      "name": "python"
    }
  },
  "cells": [
    {
      "cell_type": "code",
      "execution_count": null,
      "metadata": {
        "colab": {
          "base_uri": "https://localhost:8080/"
        },
        "id": "tdBI4061nnYo",
        "outputId": "d59271a2-5b23-4d52-d02d-064414d379d3"
      },
      "outputs": [
        {
          "output_type": "stream",
          "name": "stderr",
          "text": [
            "[nltk_data] Downloading package punkt to /root/nltk_data...\n",
            "[nltk_data]   Package punkt is already up-to-date!\n"
          ]
        }
      ],
      "source": [
        "import numpy as np\n",
        "import pandas as pd\n",
        "import nltk\n",
        "nltk.download('punkt')\n",
        "from nltk.tokenize import sent_tokenize, word_tokenize"
      ]
    },
    {
      "cell_type": "markdown",
      "source": [
        "#Text Input"
      ],
      "metadata": {
        "id": "B30LS5ifmNtO"
      }
    },
    {
      "cell_type": "code",
      "source": [
        "paragraph = \"Hi, my name is Numun. I'm 6 years old. My friends call me panda. Reason is I like to sleep and eat all the time. I eat 15 donuts on daily basis.\""
      ],
      "metadata": {
        "id": "n7LnBDfXrFmI"
      },
      "execution_count": null,
      "outputs": []
    },
    {
      "cell_type": "code",
      "source": [
        "import nltk.corpus\n",
        "from nltk.corpus import gutenberg\n",
        "\n",
        "nltk.download('gutenberg')\n",
        "\n",
        "print(nltk.corpus.gutenberg.fileids())"
      ],
      "metadata": {
        "colab": {
          "base_uri": "https://localhost:8080/"
        },
        "id": "Ru9Gd2a4kjgx",
        "outputId": "c74a1f8f-5896-4dd6-c488-6b97d40293bf"
      },
      "execution_count": null,
      "outputs": [
        {
          "output_type": "stream",
          "name": "stdout",
          "text": [
            "['austen-emma.txt', 'austen-persuasion.txt', 'austen-sense.txt', 'bible-kjv.txt', 'blake-poems.txt', 'bryant-stories.txt', 'burgess-busterbrown.txt', 'carroll-alice.txt', 'chesterton-ball.txt', 'chesterton-brown.txt', 'chesterton-thursday.txt', 'edgeworth-parents.txt', 'melville-moby_dick.txt', 'milton-paradise.txt', 'shakespeare-caesar.txt', 'shakespeare-hamlet.txt', 'shakespeare-macbeth.txt', 'whitman-leaves.txt']\n"
          ]
        },
        {
          "output_type": "stream",
          "name": "stderr",
          "text": [
            "[nltk_data] Downloading package gutenberg to /root/nltk_data...\n",
            "[nltk_data]   Package gutenberg is already up-to-date!\n"
          ]
        }
      ]
    },
    {
      "cell_type": "code",
      "source": [
        "hamlet = nltk.corpus.gutenberg.words('shakespeare-hamlet.txt')\n",
        "print(type(hamlet))"
      ],
      "metadata": {
        "colab": {
          "base_uri": "https://localhost:8080/"
        },
        "id": "I4O1thgslQOf",
        "outputId": "d29d6335-8aa6-47e3-9f4a-a3d17f214dcf"
      },
      "execution_count": null,
      "outputs": [
        {
          "output_type": "stream",
          "name": "stdout",
          "text": [
            "<class 'nltk.corpus.reader.util.StreamBackedCorpusView'>\n"
          ]
        }
      ]
    },
    {
      "cell_type": "markdown",
      "source": [
        "#Corpus"
      ],
      "metadata": {
        "id": "lcjd9pbEmSBi"
      }
    },
    {
      "cell_type": "code",
      "source": [
        "w = []\n",
        "\n",
        "for words in hamlet[:500]:\n",
        "  w.append(words)\n",
        "\n",
        "corpus_text = \" \".join(w)\n",
        "\n",
        "print(corpus_text)"
      ],
      "metadata": {
        "colab": {
          "base_uri": "https://localhost:8080/"
        },
        "id": "n5Lqa5rUlhuH",
        "outputId": "4c0be7cf-17e7-4131-8d9c-122e7dbf01f4"
      },
      "execution_count": null,
      "outputs": [
        {
          "output_type": "stream",
          "name": "stdout",
          "text": [
            "[ The Tragedie of Hamlet by William Shakespeare 1599 ] Actus Primus . Scoena Prima . Enter Barnardo and Francisco two Centinels . Barnardo . Who ' s there ? Fran . Nay answer me : Stand & vnfold your selfe Bar . Long liue the King Fran . Barnardo ? Bar . He Fran . You come most carefully vpon your houre Bar . ' Tis now strook twelue , get thee to bed Francisco Fran . For this releefe much thankes : ' Tis bitter cold , And I am sicke at heart Barn . Haue you had quiet Guard ? Fran . Not a Mouse stirring Barn . Well , goodnight . If you do meet Horatio and Marcellus , the Riuals of my Watch , bid them make hast . Enter Horatio and Marcellus . Fran . I thinke I heare them . Stand : who ' s there ? Hor . Friends to this ground Mar . And Leige - men to the Dane Fran . Giue you good night Mar . O farwel honest Soldier , who hath relieu ' d you ? Fra . Barnardo ha ' s my place : giue you goodnight . Exit Fran . Mar . Holla Barnardo Bar . Say , what is Horatio there ? Hor . A peece of him Bar . Welcome Horatio , welcome good Marcellus Mar . What , ha ' s this thing appear ' d againe to night Bar . I haue seene nothing Mar . Horatio saies , ' tis but our Fantasie , And will not let beleefe take hold of him Touching this dreaded sight , twice seene of vs , Therefore I haue intreated him along With vs , to watch the minutes of this Night , That if againe this Apparition come , He may approue our eyes , and speake to it Hor . Tush , tush , ' twill not appeare Bar . Sit downe a - while , And let vs once againe assaile your eares , That are so fortified against our Story , What we two Nights haue seene Hor . Well , sit we downe , And let vs heare Barnardo speake of this Barn . Last night of all , When yond same Starre that ' s Westward from the Pole Had made his course t ' illume that part of Heauen Where now it burnes , Marcellus and my selfe , The Bell then beating one Mar . Peace , breake thee of : Enter the Ghost . Looke where it comes againe Barn . In the same figure , like the King that ' s dead Mar . Thou art a Scholler ; speake to it Horatio Barn . Lookes it not like the King ? Marke it Horatio Hora . Most like : It harrowes me with fear & wonder Barn . It would be spoke too Mar . Question it Horatio Hor . What art\n"
          ]
        }
      ]
    },
    {
      "cell_type": "markdown",
      "source": [
        "#Dataset"
      ],
      "metadata": {
        "id": "y7nTI1RrPFbx"
      }
    },
    {
      "cell_type": "code",
      "source": [
        "df = pd.read_csv('/content/twitter_training.csv')\n",
        "temp = df.iloc[:, -1].tolist()\n",
        "\n",
        "dataset_w = []\n",
        "for item in temp[:20]:\n",
        "  if (isinstance(item, float)):\n",
        "    dataset_w.append(str(item))\n",
        "  else:\n",
        "    dataset_w.append(item)\n",
        "\n",
        "dataset_text = \" \".join(dataset_w)\n",
        "print(dataset_text)"
      ],
      "metadata": {
        "colab": {
          "base_uri": "https://localhost:8080/"
        },
        "id": "vTn7cFtTPH05",
        "outputId": "e81193a4-8ec0-4fcd-bf3d-af3cd61a1432"
      },
      "execution_count": null,
      "outputs": [
        {
          "output_type": "stream",
          "name": "stdout",
          "text": [
            "I am coming to the borders and I will kill you all, im getting on borderlands and i will kill you all, im coming on borderlands and i will murder you all, im getting on borderlands 2 and i will murder you me all, im getting into borderlands and i can murder you all, So I spent a few hours making something for fun. . . If you don't know I am a HUGE @Borderlands fan and Maya is one of my favorite characters. So I decided to make myself a wallpaper for my PC. . Here is the original image versus the creation I made :) Enjoy! pic.twitter.com/mLsI5wf9Jg So I spent a couple of hours doing something for fun... If you don't know that I'm a huge @ Borderlands fan and Maya is one of my favorite characters, I decided to make a wallpaper for my PC.. Here's the original picture compared to the creation I made:) Have fun! pic.twitter.com / mLsI5wf9Jg So I spent a few hours doing something for fun... If you don't know I'm a HUGE @ Borderlands fan and Maya is one of my favorite characters. So I spent a few hours making something for fun. . . If you don't know I am a HUGE RhandlerR fan and Maya is one of my favorite characters. So I decided to make myself a wallpaper for my PC. . Here is the original image versus the creation I made :) Enjoy! pic.twitter.com/mLsI5wf9Jg 2010 So I spent a few hours making something for fun. . . If you don't know I am a HUGE RhandlerR fan and Maya is one of my favorite characters. So I decided to make myself a wallpaper for my PC. . Here is the original image versus the creation I made :) Enjoy! pic.twitter.com/mLsI5wf9Jg was Rock-Hard La Varlope, RARE & POWERFUL, HANDSOME JACKPOT, Borderlands 3 (Xbox) dlvr.it/RMTrgF   Rock-Hard La Varlope, RARE & POWERFUL, HANDSOME JACKPOT, Borderlands 3 (Xbox) dlvr.it / RMTrgF Rock-Hard La Varlope, RARE & POWERFUL, HANDSOME JACKPOT, Borderlands 3 (Xbox) dfr.it / RMTrgF Rock-Hard La Vita, RARE BUT POWERFUL, HANDSOME JACKPOT, Borderlands 1 (Xbox) dlvr.it/RMTrgF Live Rock - Hard music La la Varlope, RARE & the POWERFUL, Live HANDSOME i JACKPOT, Borderlands 3 ( Sega Xbox ) dlvr. From it / e RMTrgF I-Hard like me, RARE LONDON DE, HANDSOME 2011, Borderlands 3 (Xbox) dlvr.it/RMTrgF that was the first borderlands session in a long time where i actually had a really satisfying combat experience. i got some really good kills this was the first Borderlands session in a long time where i actually had a really satisfying fighting experience. i got some really good kills that was the first borderlands session in a long time where i actually had a really satisfying combat experience. i got some really good kills\n"
          ]
        }
      ]
    },
    {
      "cell_type": "markdown",
      "source": [
        "#Tokenization"
      ],
      "metadata": {
        "id": "_nvtoU6btgDp"
      }
    },
    {
      "cell_type": "code",
      "source": [
        "# Plain Text\n",
        "print(\"Plain Text:\")\n",
        "print(sent_tokenize(paragraph))\n",
        "print(word_tokenize(paragraph))\n",
        "print()\n",
        "\n",
        "# NLTK Gutenberg Corpus\n",
        "print(\"Corpus:\")\n",
        "print(sent_tokenize(corpus_text))\n",
        "print(word_tokenize(corpus_text))\n",
        "print()\n",
        "\n",
        "# Dataset\n",
        "print(\"Dataset:\")\n",
        "print(sent_tokenize(dataset_text))\n",
        "print(word_tokenize(dataset_text))\n",
        "print()"
      ],
      "metadata": {
        "colab": {
          "base_uri": "https://localhost:8080/"
        },
        "id": "aTYrbUiesDOT",
        "outputId": "c63d53bb-1464-48ea-81af-df331e0ea364"
      },
      "execution_count": null,
      "outputs": [
        {
          "output_type": "stream",
          "name": "stdout",
          "text": [
            "Plain Text:\n",
            "['Hi, my name is Numun.', \"I'm 6 years old.\", 'My friends call me panda.', 'Reason is I like to sleep and eat all the time.', 'I eat 15 donuts on daily basis.']\n",
            "['Hi', ',', 'my', 'name', 'is', 'Numun', '.', 'I', \"'m\", '6', 'years', 'old', '.', 'My', 'friends', 'call', 'me', 'panda', '.', 'Reason', 'is', 'I', 'like', 'to', 'sleep', 'and', 'eat', 'all', 'the', 'time', '.', 'I', 'eat', '15', 'donuts', 'on', 'daily', 'basis', '.']\n",
            "\n",
            "Corpus:\n",
            "['[ The Tragedie of Hamlet by William Shakespeare 1599 ] Actus Primus .', 'Scoena Prima .', 'Enter Barnardo and Francisco two Centinels .', 'Barnardo .', \"Who ' s there ?\", 'Fran .', 'Nay answer me : Stand & vnfold your selfe Bar .', 'Long liue the King Fran .', 'Barnardo ?', 'Bar .', 'He Fran .', \"You come most carefully vpon your houre Bar . '\", 'Tis now strook twelue , get thee to bed Francisco Fran .', \"For this releefe much thankes : ' Tis bitter cold , And I am sicke at heart Barn .\", 'Haue you had quiet Guard ?', 'Fran .', 'Not a Mouse stirring Barn .', 'Well , goodnight .', 'If you do meet Horatio and Marcellus , the Riuals of my Watch , bid them make hast .', 'Enter Horatio and Marcellus .', 'Fran .', 'I thinke I heare them .', \"Stand : who ' s there ?\", 'Hor .', 'Friends to this ground Mar .', 'And Leige - men to the Dane Fran .', 'Giue you good night Mar .', \"O farwel honest Soldier , who hath relieu ' d you ?\", 'Fra .', \"Barnardo ha ' s my place : giue you goodnight .\", 'Exit Fran .', 'Mar .', 'Holla Barnardo Bar .', 'Say , what is Horatio there ?', 'Hor .', 'A peece of him Bar .', 'Welcome Horatio , welcome good Marcellus Mar .', \"What , ha ' s this thing appear ' d againe to night Bar .\", 'I haue seene nothing Mar .', \"Horatio saies , ' tis but our Fantasie , And will not let beleefe take hold of him Touching this dreaded sight , twice seene of vs , Therefore I haue intreated him along With vs , to watch the minutes of this Night , That if againe this Apparition come , He may approue our eyes , and speake to it Hor .\", \"Tush , tush , ' twill not appeare Bar .\", 'Sit downe a - while , And let vs once againe assaile your eares , That are so fortified against our Story , What we two Nights haue seene Hor .', 'Well , sit we downe , And let vs heare Barnardo speake of this Barn .', \"Last night of all , When yond same Starre that ' s Westward from the Pole Had made his course t ' illume that part of Heauen Where now it burnes , Marcellus and my selfe , The Bell then beating one Mar .\", 'Peace , breake thee of : Enter the Ghost .', 'Looke where it comes againe Barn .', \"In the same figure , like the King that ' s dead Mar .\", 'Thou art a Scholler ; speake to it Horatio Barn .', 'Lookes it not like the King ?', 'Marke it Horatio Hora .', 'Most like : It harrowes me with fear & wonder Barn .', 'It would be spoke too Mar .', 'Question it Horatio Hor .', 'What art']\n",
            "['[', 'The', 'Tragedie', 'of', 'Hamlet', 'by', 'William', 'Shakespeare', '1599', ']', 'Actus', 'Primus', '.', 'Scoena', 'Prima', '.', 'Enter', 'Barnardo', 'and', 'Francisco', 'two', 'Centinels', '.', 'Barnardo', '.', 'Who', \"'\", 's', 'there', '?', 'Fran', '.', 'Nay', 'answer', 'me', ':', 'Stand', '&', 'vnfold', 'your', 'selfe', 'Bar', '.', 'Long', 'liue', 'the', 'King', 'Fran', '.', 'Barnardo', '?', 'Bar', '.', 'He', 'Fran', '.', 'You', 'come', 'most', 'carefully', 'vpon', 'your', 'houre', 'Bar', '.', \"'\", 'Tis', 'now', 'strook', 'twelue', ',', 'get', 'thee', 'to', 'bed', 'Francisco', 'Fran', '.', 'For', 'this', 'releefe', 'much', 'thankes', ':', \"'\", 'Tis', 'bitter', 'cold', ',', 'And', 'I', 'am', 'sicke', 'at', 'heart', 'Barn', '.', 'Haue', 'you', 'had', 'quiet', 'Guard', '?', 'Fran', '.', 'Not', 'a', 'Mouse', 'stirring', 'Barn', '.', 'Well', ',', 'goodnight', '.', 'If', 'you', 'do', 'meet', 'Horatio', 'and', 'Marcellus', ',', 'the', 'Riuals', 'of', 'my', 'Watch', ',', 'bid', 'them', 'make', 'hast', '.', 'Enter', 'Horatio', 'and', 'Marcellus', '.', 'Fran', '.', 'I', 'thinke', 'I', 'heare', 'them', '.', 'Stand', ':', 'who', \"'\", 's', 'there', '?', 'Hor', '.', 'Friends', 'to', 'this', 'ground', 'Mar', '.', 'And', 'Leige', '-', 'men', 'to', 'the', 'Dane', 'Fran', '.', 'Giue', 'you', 'good', 'night', 'Mar', '.', 'O', 'farwel', 'honest', 'Soldier', ',', 'who', 'hath', 'relieu', \"'\", 'd', 'you', '?', 'Fra', '.', 'Barnardo', 'ha', \"'\", 's', 'my', 'place', ':', 'giue', 'you', 'goodnight', '.', 'Exit', 'Fran', '.', 'Mar', '.', 'Holla', 'Barnardo', 'Bar', '.', 'Say', ',', 'what', 'is', 'Horatio', 'there', '?', 'Hor', '.', 'A', 'peece', 'of', 'him', 'Bar', '.', 'Welcome', 'Horatio', ',', 'welcome', 'good', 'Marcellus', 'Mar', '.', 'What', ',', 'ha', \"'\", 's', 'this', 'thing', 'appear', \"'\", 'd', 'againe', 'to', 'night', 'Bar', '.', 'I', 'haue', 'seene', 'nothing', 'Mar', '.', 'Horatio', 'saies', ',', \"'\", 'tis', 'but', 'our', 'Fantasie', ',', 'And', 'will', 'not', 'let', 'beleefe', 'take', 'hold', 'of', 'him', 'Touching', 'this', 'dreaded', 'sight', ',', 'twice', 'seene', 'of', 'vs', ',', 'Therefore', 'I', 'haue', 'intreated', 'him', 'along', 'With', 'vs', ',', 'to', 'watch', 'the', 'minutes', 'of', 'this', 'Night', ',', 'That', 'if', 'againe', 'this', 'Apparition', 'come', ',', 'He', 'may', 'approue', 'our', 'eyes', ',', 'and', 'speake', 'to', 'it', 'Hor', '.', 'Tush', ',', 'tush', ',', \"'\", 'twill', 'not', 'appeare', 'Bar', '.', 'Sit', 'downe', 'a', '-', 'while', ',', 'And', 'let', 'vs', 'once', 'againe', 'assaile', 'your', 'eares', ',', 'That', 'are', 'so', 'fortified', 'against', 'our', 'Story', ',', 'What', 'we', 'two', 'Nights', 'haue', 'seene', 'Hor', '.', 'Well', ',', 'sit', 'we', 'downe', ',', 'And', 'let', 'vs', 'heare', 'Barnardo', 'speake', 'of', 'this', 'Barn', '.', 'Last', 'night', 'of', 'all', ',', 'When', 'yond', 'same', 'Starre', 'that', \"'\", 's', 'Westward', 'from', 'the', 'Pole', 'Had', 'made', 'his', 'course', 't', \"'\", 'illume', 'that', 'part', 'of', 'Heauen', 'Where', 'now', 'it', 'burnes', ',', 'Marcellus', 'and', 'my', 'selfe', ',', 'The', 'Bell', 'then', 'beating', 'one', 'Mar', '.', 'Peace', ',', 'breake', 'thee', 'of', ':', 'Enter', 'the', 'Ghost', '.', 'Looke', 'where', 'it', 'comes', 'againe', 'Barn', '.', 'In', 'the', 'same', 'figure', ',', 'like', 'the', 'King', 'that', \"'\", 's', 'dead', 'Mar', '.', 'Thou', 'art', 'a', 'Scholler', ';', 'speake', 'to', 'it', 'Horatio', 'Barn', '.', 'Lookes', 'it', 'not', 'like', 'the', 'King', '?', 'Marke', 'it', 'Horatio', 'Hora', '.', 'Most', 'like', ':', 'It', 'harrowes', 'me', 'with', 'fear', '&', 'wonder', 'Barn', '.', 'It', 'would', 'be', 'spoke', 'too', 'Mar', '.', 'Question', 'it', 'Horatio', 'Hor', '.', 'What', 'art']\n",
            "\n",
            "Dataset:\n",
            "['I am coming to the borders and I will kill you all, im getting on borderlands and i will kill you all, im coming on borderlands and i will murder you all, im getting on borderlands 2 and i will murder you me all, im getting into borderlands and i can murder you all, So I spent a few hours making something for fun.', '.', '.', \"If you don't know I am a HUGE @Borderlands fan and Maya is one of my favorite characters.\", 'So I decided to make myself a wallpaper for my PC.', '.', 'Here is the original image versus the creation I made :) Enjoy!', 'pic.twitter.com/mLsI5wf9Jg So I spent a couple of hours doing something for fun...', \"If you don't know that I'm a huge @ Borderlands fan and Maya is one of my favorite characters, I decided to make a wallpaper for my PC..\", \"Here's the original picture compared to the creation I made:) Have fun!\", 'pic.twitter.com / mLsI5wf9Jg So I spent a few hours doing something for fun...', \"If you don't know I'm a HUGE @ Borderlands fan and Maya is one of my favorite characters.\", 'So I spent a few hours making something for fun.', '.', '.', \"If you don't know I am a HUGE RhandlerR fan and Maya is one of my favorite characters.\", 'So I decided to make myself a wallpaper for my PC.', '.', 'Here is the original image versus the creation I made :) Enjoy!', 'pic.twitter.com/mLsI5wf9Jg 2010 So I spent a few hours making something for fun.', '.', '.', \"If you don't know I am a HUGE RhandlerR fan and Maya is one of my favorite characters.\", 'So I decided to make myself a wallpaper for my PC.', '.', 'Here is the original image versus the creation I made :) Enjoy!', 'pic.twitter.com/mLsI5wf9Jg was Rock-Hard La Varlope, RARE & POWERFUL, HANDSOME JACKPOT, Borderlands 3 (Xbox) dlvr.it/RMTrgF   Rock-Hard La Varlope, RARE & POWERFUL, HANDSOME JACKPOT, Borderlands 3 (Xbox) dlvr.it / RMTrgF Rock-Hard La Varlope, RARE & POWERFUL, HANDSOME JACKPOT, Borderlands 3 (Xbox) dfr.it / RMTrgF Rock-Hard La Vita, RARE BUT POWERFUL, HANDSOME JACKPOT, Borderlands 1 (Xbox) dlvr.it/RMTrgF Live Rock - Hard music La la Varlope, RARE & the POWERFUL, Live HANDSOME i JACKPOT, Borderlands 3 ( Sega Xbox ) dlvr.', 'From it / e RMTrgF I-Hard like me, RARE LONDON DE, HANDSOME 2011, Borderlands 3 (Xbox) dlvr.it/RMTrgF that was the first borderlands session in a long time where i actually had a really satisfying combat experience.', 'i got some really good kills this was the first Borderlands session in a long time where i actually had a really satisfying fighting experience.', 'i got some really good kills that was the first borderlands session in a long time where i actually had a really satisfying combat experience.', 'i got some really good kills']\n",
            "['I', 'am', 'coming', 'to', 'the', 'borders', 'and', 'I', 'will', 'kill', 'you', 'all', ',', 'im', 'getting', 'on', 'borderlands', 'and', 'i', 'will', 'kill', 'you', 'all', ',', 'im', 'coming', 'on', 'borderlands', 'and', 'i', 'will', 'murder', 'you', 'all', ',', 'im', 'getting', 'on', 'borderlands', '2', 'and', 'i', 'will', 'murder', 'you', 'me', 'all', ',', 'im', 'getting', 'into', 'borderlands', 'and', 'i', 'can', 'murder', 'you', 'all', ',', 'So', 'I', 'spent', 'a', 'few', 'hours', 'making', 'something', 'for', 'fun', '.', '.', '.', 'If', 'you', 'do', \"n't\", 'know', 'I', 'am', 'a', 'HUGE', '@', 'Borderlands', 'fan', 'and', 'Maya', 'is', 'one', 'of', 'my', 'favorite', 'characters', '.', 'So', 'I', 'decided', 'to', 'make', 'myself', 'a', 'wallpaper', 'for', 'my', 'PC', '.', '.', 'Here', 'is', 'the', 'original', 'image', 'versus', 'the', 'creation', 'I', 'made', ':', ')', 'Enjoy', '!', 'pic.twitter.com/mLsI5wf9Jg', 'So', 'I', 'spent', 'a', 'couple', 'of', 'hours', 'doing', 'something', 'for', 'fun', '...', 'If', 'you', 'do', \"n't\", 'know', 'that', 'I', \"'m\", 'a', 'huge', '@', 'Borderlands', 'fan', 'and', 'Maya', 'is', 'one', 'of', 'my', 'favorite', 'characters', ',', 'I', 'decided', 'to', 'make', 'a', 'wallpaper', 'for', 'my', 'PC', '..', 'Here', \"'s\", 'the', 'original', 'picture', 'compared', 'to', 'the', 'creation', 'I', 'made', ':', ')', 'Have', 'fun', '!', 'pic.twitter.com', '/', 'mLsI5wf9Jg', 'So', 'I', 'spent', 'a', 'few', 'hours', 'doing', 'something', 'for', 'fun', '...', 'If', 'you', 'do', \"n't\", 'know', 'I', \"'m\", 'a', 'HUGE', '@', 'Borderlands', 'fan', 'and', 'Maya', 'is', 'one', 'of', 'my', 'favorite', 'characters', '.', 'So', 'I', 'spent', 'a', 'few', 'hours', 'making', 'something', 'for', 'fun', '.', '.', '.', 'If', 'you', 'do', \"n't\", 'know', 'I', 'am', 'a', 'HUGE', 'RhandlerR', 'fan', 'and', 'Maya', 'is', 'one', 'of', 'my', 'favorite', 'characters', '.', 'So', 'I', 'decided', 'to', 'make', 'myself', 'a', 'wallpaper', 'for', 'my', 'PC', '.', '.', 'Here', 'is', 'the', 'original', 'image', 'versus', 'the', 'creation', 'I', 'made', ':', ')', 'Enjoy', '!', 'pic.twitter.com/mLsI5wf9Jg', '2010', 'So', 'I', 'spent', 'a', 'few', 'hours', 'making', 'something', 'for', 'fun', '.', '.', '.', 'If', 'you', 'do', \"n't\", 'know', 'I', 'am', 'a', 'HUGE', 'RhandlerR', 'fan', 'and', 'Maya', 'is', 'one', 'of', 'my', 'favorite', 'characters', '.', 'So', 'I', 'decided', 'to', 'make', 'myself', 'a', 'wallpaper', 'for', 'my', 'PC', '.', '.', 'Here', 'is', 'the', 'original', 'image', 'versus', 'the', 'creation', 'I', 'made', ':', ')', 'Enjoy', '!', 'pic.twitter.com/mLsI5wf9Jg', 'was', 'Rock-Hard', 'La', 'Varlope', ',', 'RARE', '&', 'POWERFUL', ',', 'HANDSOME', 'JACKPOT', ',', 'Borderlands', '3', '(', 'Xbox', ')', 'dlvr.it/RMTrgF', 'Rock-Hard', 'La', 'Varlope', ',', 'RARE', '&', 'POWERFUL', ',', 'HANDSOME', 'JACKPOT', ',', 'Borderlands', '3', '(', 'Xbox', ')', 'dlvr.it', '/', 'RMTrgF', 'Rock-Hard', 'La', 'Varlope', ',', 'RARE', '&', 'POWERFUL', ',', 'HANDSOME', 'JACKPOT', ',', 'Borderlands', '3', '(', 'Xbox', ')', 'dfr.it', '/', 'RMTrgF', 'Rock-Hard', 'La', 'Vita', ',', 'RARE', 'BUT', 'POWERFUL', ',', 'HANDSOME', 'JACKPOT', ',', 'Borderlands', '1', '(', 'Xbox', ')', 'dlvr.it/RMTrgF', 'Live', 'Rock', '-', 'Hard', 'music', 'La', 'la', 'Varlope', ',', 'RARE', '&', 'the', 'POWERFUL', ',', 'Live', 'HANDSOME', 'i', 'JACKPOT', ',', 'Borderlands', '3', '(', 'Sega', 'Xbox', ')', 'dlvr', '.', 'From', 'it', '/', 'e', 'RMTrgF', 'I-Hard', 'like', 'me', ',', 'RARE', 'LONDON', 'DE', ',', 'HANDSOME', '2011', ',', 'Borderlands', '3', '(', 'Xbox', ')', 'dlvr.it/RMTrgF', 'that', 'was', 'the', 'first', 'borderlands', 'session', 'in', 'a', 'long', 'time', 'where', 'i', 'actually', 'had', 'a', 'really', 'satisfying', 'combat', 'experience', '.', 'i', 'got', 'some', 'really', 'good', 'kills', 'this', 'was', 'the', 'first', 'Borderlands', 'session', 'in', 'a', 'long', 'time', 'where', 'i', 'actually', 'had', 'a', 'really', 'satisfying', 'fighting', 'experience', '.', 'i', 'got', 'some', 'really', 'good', 'kills', 'that', 'was', 'the', 'first', 'borderlands', 'session', 'in', 'a', 'long', 'time', 'where', 'i', 'actually', 'had', 'a', 'really', 'satisfying', 'combat', 'experience', '.', 'i', 'got', 'some', 'really', 'good', 'kills']\n",
            "\n"
          ]
        }
      ]
    },
    {
      "cell_type": "markdown",
      "source": [
        "#Converting to LowerCase"
      ],
      "metadata": {
        "id": "jt7iEYHBti4R"
      }
    },
    {
      "cell_type": "code",
      "source": [
        "# Plain Text\n",
        "print(\"Plain Text:\")\n",
        "text = paragraph.lower()\n",
        "print(text)\n",
        "print()\n",
        "\n",
        "#Corpus\n",
        "print(\"Corpus:\")\n",
        "corpus_lower = corpus_text.lower()\n",
        "print(corpus_lower)\n",
        "print()\n",
        "\n",
        "# Dataset\n",
        "print(\"Dataset:\")\n",
        "dataset_lower = dataset_text.lower()\n",
        "print(dataset_lower)\n",
        "print()"
      ],
      "metadata": {
        "colab": {
          "base_uri": "https://localhost:8080/"
        },
        "id": "mlf0E9p1tfRC",
        "outputId": "85ffe372-f957-4320-da8b-24943969869b"
      },
      "execution_count": null,
      "outputs": [
        {
          "output_type": "stream",
          "name": "stdout",
          "text": [
            "Plain Text:\n",
            "hi, my name is numun. i'm 6 years old. my friends call me panda. reason is i like to sleep and eat all the time. i eat 15 donuts on daily basis.\n",
            "\n",
            "Corpus:\n",
            "[ the tragedie of hamlet by william shakespeare 1599 ] actus primus . scoena prima . enter barnardo and francisco two centinels . barnardo . who ' s there ? fran . nay answer me : stand & vnfold your selfe bar . long liue the king fran . barnardo ? bar . he fran . you come most carefully vpon your houre bar . ' tis now strook twelue , get thee to bed francisco fran . for this releefe much thankes : ' tis bitter cold , and i am sicke at heart barn . haue you had quiet guard ? fran . not a mouse stirring barn . well , goodnight . if you do meet horatio and marcellus , the riuals of my watch , bid them make hast . enter horatio and marcellus . fran . i thinke i heare them . stand : who ' s there ? hor . friends to this ground mar . and leige - men to the dane fran . giue you good night mar . o farwel honest soldier , who hath relieu ' d you ? fra . barnardo ha ' s my place : giue you goodnight . exit fran . mar . holla barnardo bar . say , what is horatio there ? hor . a peece of him bar . welcome horatio , welcome good marcellus mar . what , ha ' s this thing appear ' d againe to night bar . i haue seene nothing mar . horatio saies , ' tis but our fantasie , and will not let beleefe take hold of him touching this dreaded sight , twice seene of vs , therefore i haue intreated him along with vs , to watch the minutes of this night , that if againe this apparition come , he may approue our eyes , and speake to it hor . tush , tush , ' twill not appeare bar . sit downe a - while , and let vs once againe assaile your eares , that are so fortified against our story , what we two nights haue seene hor . well , sit we downe , and let vs heare barnardo speake of this barn . last night of all , when yond same starre that ' s westward from the pole had made his course t ' illume that part of heauen where now it burnes , marcellus and my selfe , the bell then beating one mar . peace , breake thee of : enter the ghost . looke where it comes againe barn . in the same figure , like the king that ' s dead mar . thou art a scholler ; speake to it horatio barn . lookes it not like the king ? marke it horatio hora . most like : it harrowes me with fear & wonder barn . it would be spoke too mar . question it horatio hor . what art\n",
            "\n",
            "Dataset:\n",
            "i am coming to the borders and i will kill you all, im getting on borderlands and i will kill you all, im coming on borderlands and i will murder you all, im getting on borderlands 2 and i will murder you me all, im getting into borderlands and i can murder you all, so i spent a few hours making something for fun. . . if you don't know i am a huge @borderlands fan and maya is one of my favorite characters. so i decided to make myself a wallpaper for my pc. . here is the original image versus the creation i made :) enjoy! pic.twitter.com/mlsi5wf9jg so i spent a couple of hours doing something for fun... if you don't know that i'm a huge @ borderlands fan and maya is one of my favorite characters, i decided to make a wallpaper for my pc.. here's the original picture compared to the creation i made:) have fun! pic.twitter.com / mlsi5wf9jg so i spent a few hours doing something for fun... if you don't know i'm a huge @ borderlands fan and maya is one of my favorite characters. so i spent a few hours making something for fun. . . if you don't know i am a huge rhandlerr fan and maya is one of my favorite characters. so i decided to make myself a wallpaper for my pc. . here is the original image versus the creation i made :) enjoy! pic.twitter.com/mlsi5wf9jg 2010 so i spent a few hours making something for fun. . . if you don't know i am a huge rhandlerr fan and maya is one of my favorite characters. so i decided to make myself a wallpaper for my pc. . here is the original image versus the creation i made :) enjoy! pic.twitter.com/mlsi5wf9jg was rock-hard la varlope, rare & powerful, handsome jackpot, borderlands 3 (xbox) dlvr.it/rmtrgf   rock-hard la varlope, rare & powerful, handsome jackpot, borderlands 3 (xbox) dlvr.it / rmtrgf rock-hard la varlope, rare & powerful, handsome jackpot, borderlands 3 (xbox) dfr.it / rmtrgf rock-hard la vita, rare but powerful, handsome jackpot, borderlands 1 (xbox) dlvr.it/rmtrgf live rock - hard music la la varlope, rare & the powerful, live handsome i jackpot, borderlands 3 ( sega xbox ) dlvr. from it / e rmtrgf i-hard like me, rare london de, handsome 2011, borderlands 3 (xbox) dlvr.it/rmtrgf that was the first borderlands session in a long time where i actually had a really satisfying combat experience. i got some really good kills this was the first borderlands session in a long time where i actually had a really satisfying fighting experience. i got some really good kills that was the first borderlands session in a long time where i actually had a really satisfying combat experience. i got some really good kills\n",
            "\n"
          ]
        }
      ]
    },
    {
      "cell_type": "markdown",
      "source": [
        "#Removing Numbers"
      ],
      "metadata": {
        "id": "wriydjITuQYi"
      }
    },
    {
      "cell_type": "code",
      "source": [
        "# Plain Text\n",
        "print(\"Plain Text:\")\n",
        "\n",
        "numbers = []\n",
        "\n",
        "for token in paragraph:\n",
        "  if token.isdigit():\n",
        "    numbers.append(token)\n",
        "\n",
        "text2 = \"\".join([token for token in paragraph if token not in numbers])\n",
        "\n",
        "print(text2)\n",
        "print()\n",
        "\n",
        "# Corpus\n",
        "print(\"Corpus:\")\n",
        "\n",
        "corpus_numbers = []\n",
        "\n",
        "for token in corpus_text:\n",
        "  if token.isdigit():\n",
        "    corpus_numbers.append(token)\n",
        "\n",
        "corpus_without_nums = \"\".join([token for token in corpus_text if token not in corpus_numbers])\n",
        "\n",
        "print(corpus_without_nums)\n",
        "print()\n",
        "\n",
        "# Dataset\n",
        "print(\"Dataset:\")\n",
        "\n",
        "dataset_numbers = []\n",
        "\n",
        "for token in dataset_text:\n",
        "  if token.isdigit():\n",
        "    dataset_numbers.append(token)\n",
        "\n",
        "dataset_without_nums = \"\".join([token for token in dataset_text if token not in dataset_numbers])\n",
        "\n",
        "print(dataset_without_nums)\n",
        "print()"
      ],
      "metadata": {
        "colab": {
          "base_uri": "https://localhost:8080/"
        },
        "id": "ERahe54itqe5",
        "outputId": "0a8e62cb-f1f3-4fb6-91cc-700021b87132"
      },
      "execution_count": null,
      "outputs": [
        {
          "output_type": "stream",
          "name": "stdout",
          "text": [
            "Plain Text:\n",
            "Hi, my name is Numun. I'm  years old. My friends call me panda. Reason is I like to sleep and eat all the time. I eat  donuts on daily basis.\n",
            "\n",
            "Corpus:\n",
            "[ The Tragedie of Hamlet by William Shakespeare  ] Actus Primus . Scoena Prima . Enter Barnardo and Francisco two Centinels . Barnardo . Who ' s there ? Fran . Nay answer me : Stand & vnfold your selfe Bar . Long liue the King Fran . Barnardo ? Bar . He Fran . You come most carefully vpon your houre Bar . ' Tis now strook twelue , get thee to bed Francisco Fran . For this releefe much thankes : ' Tis bitter cold , And I am sicke at heart Barn . Haue you had quiet Guard ? Fran . Not a Mouse stirring Barn . Well , goodnight . If you do meet Horatio and Marcellus , the Riuals of my Watch , bid them make hast . Enter Horatio and Marcellus . Fran . I thinke I heare them . Stand : who ' s there ? Hor . Friends to this ground Mar . And Leige - men to the Dane Fran . Giue you good night Mar . O farwel honest Soldier , who hath relieu ' d you ? Fra . Barnardo ha ' s my place : giue you goodnight . Exit Fran . Mar . Holla Barnardo Bar . Say , what is Horatio there ? Hor . A peece of him Bar . Welcome Horatio , welcome good Marcellus Mar . What , ha ' s this thing appear ' d againe to night Bar . I haue seene nothing Mar . Horatio saies , ' tis but our Fantasie , And will not let beleefe take hold of him Touching this dreaded sight , twice seene of vs , Therefore I haue intreated him along With vs , to watch the minutes of this Night , That if againe this Apparition come , He may approue our eyes , and speake to it Hor . Tush , tush , ' twill not appeare Bar . Sit downe a - while , And let vs once againe assaile your eares , That are so fortified against our Story , What we two Nights haue seene Hor . Well , sit we downe , And let vs heare Barnardo speake of this Barn . Last night of all , When yond same Starre that ' s Westward from the Pole Had made his course t ' illume that part of Heauen Where now it burnes , Marcellus and my selfe , The Bell then beating one Mar . Peace , breake thee of : Enter the Ghost . Looke where it comes againe Barn . In the same figure , like the King that ' s dead Mar . Thou art a Scholler ; speake to it Horatio Barn . Lookes it not like the King ? Marke it Horatio Hora . Most like : It harrowes me with fear & wonder Barn . It would be spoke too Mar . Question it Horatio Hor . What art\n",
            "\n",
            "Dataset:\n",
            "I am coming to the borders and I will kill you all, im getting on borderlands and i will kill you all, im coming on borderlands and i will murder you all, im getting on borderlands  and i will murder you me all, im getting into borderlands and i can murder you all, So I spent a few hours making something for fun. . . If you don't know I am a HUGE @Borderlands fan and Maya is one of my favorite characters. So I decided to make myself a wallpaper for my PC. . Here is the original image versus the creation I made :) Enjoy! pic.twitter.com/mLsIwfJg So I spent a couple of hours doing something for fun... If you don't know that I'm a huge @ Borderlands fan and Maya is one of my favorite characters, I decided to make a wallpaper for my PC.. Here's the original picture compared to the creation I made:) Have fun! pic.twitter.com / mLsIwfJg So I spent a few hours doing something for fun... If you don't know I'm a HUGE @ Borderlands fan and Maya is one of my favorite characters. So I spent a few hours making something for fun. . . If you don't know I am a HUGE RhandlerR fan and Maya is one of my favorite characters. So I decided to make myself a wallpaper for my PC. . Here is the original image versus the creation I made :) Enjoy! pic.twitter.com/mLsIwfJg  So I spent a few hours making something for fun. . . If you don't know I am a HUGE RhandlerR fan and Maya is one of my favorite characters. So I decided to make myself a wallpaper for my PC. . Here is the original image versus the creation I made :) Enjoy! pic.twitter.com/mLsIwfJg was Rock-Hard La Varlope, RARE & POWERFUL, HANDSOME JACKPOT, Borderlands  (Xbox) dlvr.it/RMTrgF   Rock-Hard La Varlope, RARE & POWERFUL, HANDSOME JACKPOT, Borderlands  (Xbox) dlvr.it / RMTrgF Rock-Hard La Varlope, RARE & POWERFUL, HANDSOME JACKPOT, Borderlands  (Xbox) dfr.it / RMTrgF Rock-Hard La Vita, RARE BUT POWERFUL, HANDSOME JACKPOT, Borderlands  (Xbox) dlvr.it/RMTrgF Live Rock - Hard music La la Varlope, RARE & the POWERFUL, Live HANDSOME i JACKPOT, Borderlands  ( Sega Xbox ) dlvr. From it / e RMTrgF I-Hard like me, RARE LONDON DE, HANDSOME , Borderlands  (Xbox) dlvr.it/RMTrgF that was the first borderlands session in a long time where i actually had a really satisfying combat experience. i got some really good kills this was the first Borderlands session in a long time where i actually had a really satisfying fighting experience. i got some really good kills that was the first borderlands session in a long time where i actually had a really satisfying combat experience. i got some really good kills\n",
            "\n"
          ]
        }
      ]
    },
    {
      "cell_type": "markdown",
      "source": [
        "#Converting Numbers to Words"
      ],
      "metadata": {
        "id": "QB6r7ETIvqp7"
      }
    },
    {
      "cell_type": "code",
      "source": [
        "!pip install num2words\n",
        "import num2words\n",
        "\n",
        "# Plain Text\n",
        "print(\"Plain Text:\")\n",
        "\n",
        "words = []\n",
        "\n",
        "for token in paragraph:\n",
        "  if token.isdigit():\n",
        "    words.append(num2words.num2words(token))\n",
        "\n",
        "cnt = 0\n",
        "text3 = \"\"\n",
        "\n",
        "for token in paragraph:\n",
        "  if token.isdigit():\n",
        "    text3 += words[cnt]\n",
        "    cnt += 1\n",
        "  else:\n",
        "    text3 += token\n",
        "\n",
        "print(text3)\n",
        "print()\n",
        "\n",
        "# Corpus\n",
        "print(\"Corpus:\")\n",
        "\n",
        "corpus_words_nums = []\n",
        "\n",
        "for token in corpus_text:\n",
        "  if token.isdigit():\n",
        "    corpus_words_nums.append(num2words.num2words(token))\n",
        "\n",
        "cnt = 0\n",
        "corpus_nums_to_words = \"\"\n",
        "\n",
        "for token in corpus_text:\n",
        "  if token.isdigit():\n",
        "    corpus_nums_to_words += corpus_words_nums[cnt]\n",
        "    cnt += 1\n",
        "  else:\n",
        "    corpus_nums_to_words += token\n",
        "\n",
        "print(corpus_nums_to_words)\n",
        "print()\n",
        "\n",
        "# Dataset\n",
        "print(\"Dataset:\")\n",
        "\n",
        "dataset_words_nums = []\n",
        "\n",
        "for token in dataset_text:\n",
        "  if token.isdigit():\n",
        "    dataset_words_nums.append(num2words.num2words(token))\n",
        "\n",
        "cnt = 0\n",
        "dataset_nums_to_words = \"\"\n",
        "\n",
        "for token in dataset_text:\n",
        "  if token.isdigit():\n",
        "    dataset_nums_to_words += dataset_words_nums[cnt]\n",
        "    cnt += 1\n",
        "  else:\n",
        "    dataset_nums_to_words += token\n",
        "\n",
        "print(dataset_nums_to_words)\n",
        "print()"
      ],
      "metadata": {
        "colab": {
          "base_uri": "https://localhost:8080/"
        },
        "id": "Mcmbv0R8xoI8",
        "outputId": "c21e6009-7c52-4c6f-c34e-2062be47143e"
      },
      "execution_count": null,
      "outputs": [
        {
          "output_type": "stream",
          "name": "stdout",
          "text": [
            "Collecting num2words\n",
            "  Downloading num2words-0.5.13-py3-none-any.whl (143 kB)\n",
            "\u001b[?25l     \u001b[90m━━━━━━━━━━━━━━━━━━━━━━━━━━━━━━━━━━━━━━━━\u001b[0m \u001b[32m0.0/143.3 kB\u001b[0m \u001b[31m?\u001b[0m eta \u001b[36m-:--:--\u001b[0m\r\u001b[2K     \u001b[91m━━━━━━━━━━━━━━━━━━━━━━━━━━━━━━━\u001b[0m\u001b[90m╺\u001b[0m\u001b[90m━━━━━━━━\u001b[0m \u001b[32m112.6/143.3 kB\u001b[0m \u001b[31m3.2 MB/s\u001b[0m eta \u001b[36m0:00:01\u001b[0m\r\u001b[2K     \u001b[90m━━━━━━━━━━━━━━━━━━━━━━━━━━━━━━━━━━━━━━━━\u001b[0m \u001b[32m143.3/143.3 kB\u001b[0m \u001b[31m3.1 MB/s\u001b[0m eta \u001b[36m0:00:00\u001b[0m\n",
            "\u001b[?25hCollecting docopt>=0.6.2 (from num2words)\n",
            "  Downloading docopt-0.6.2.tar.gz (25 kB)\n",
            "  Preparing metadata (setup.py) ... \u001b[?25l\u001b[?25hdone\n",
            "Building wheels for collected packages: docopt\n",
            "  Building wheel for docopt (setup.py) ... \u001b[?25l\u001b[?25hdone\n",
            "  Created wheel for docopt: filename=docopt-0.6.2-py2.py3-none-any.whl size=13706 sha256=42422934263569edae4049f7397f0fab5b464b582d048caa40b70115b36a4eed\n",
            "  Stored in directory: /root/.cache/pip/wheels/fc/ab/d4/5da2067ac95b36618c629a5f93f809425700506f72c9732fac\n",
            "Successfully built docopt\n",
            "Installing collected packages: docopt, num2words\n",
            "Successfully installed docopt-0.6.2 num2words-0.5.13\n",
            "Plain Text:\n",
            "Hi, my name is Numun. I'm six years old. My friends call me panda. Reason is I like to sleep and eat all the time. I eat onefive donuts on daily basis.\n",
            "\n",
            "Corpus:\n",
            "[ The Tragedie of Hamlet by William Shakespeare onefiveninenine ] Actus Primus . Scoena Prima . Enter Barnardo and Francisco two Centinels . Barnardo . Who ' s there ? Fran . Nay answer me : Stand & vnfold your selfe Bar . Long liue the King Fran . Barnardo ? Bar . He Fran . You come most carefully vpon your houre Bar . ' Tis now strook twelue , get thee to bed Francisco Fran . For this releefe much thankes : ' Tis bitter cold , And I am sicke at heart Barn . Haue you had quiet Guard ? Fran . Not a Mouse stirring Barn . Well , goodnight . If you do meet Horatio and Marcellus , the Riuals of my Watch , bid them make hast . Enter Horatio and Marcellus . Fran . I thinke I heare them . Stand : who ' s there ? Hor . Friends to this ground Mar . And Leige - men to the Dane Fran . Giue you good night Mar . O farwel honest Soldier , who hath relieu ' d you ? Fra . Barnardo ha ' s my place : giue you goodnight . Exit Fran . Mar . Holla Barnardo Bar . Say , what is Horatio there ? Hor . A peece of him Bar . Welcome Horatio , welcome good Marcellus Mar . What , ha ' s this thing appear ' d againe to night Bar . I haue seene nothing Mar . Horatio saies , ' tis but our Fantasie , And will not let beleefe take hold of him Touching this dreaded sight , twice seene of vs , Therefore I haue intreated him along With vs , to watch the minutes of this Night , That if againe this Apparition come , He may approue our eyes , and speake to it Hor . Tush , tush , ' twill not appeare Bar . Sit downe a - while , And let vs once againe assaile your eares , That are so fortified against our Story , What we two Nights haue seene Hor . Well , sit we downe , And let vs heare Barnardo speake of this Barn . Last night of all , When yond same Starre that ' s Westward from the Pole Had made his course t ' illume that part of Heauen Where now it burnes , Marcellus and my selfe , The Bell then beating one Mar . Peace , breake thee of : Enter the Ghost . Looke where it comes againe Barn . In the same figure , like the King that ' s dead Mar . Thou art a Scholler ; speake to it Horatio Barn . Lookes it not like the King ? Marke it Horatio Hora . Most like : It harrowes me with fear & wonder Barn . It would be spoke too Mar . Question it Horatio Hor . What art\n",
            "\n",
            "Dataset:\n",
            "I am coming to the borders and I will kill you all, im getting on borderlands and i will kill you all, im coming on borderlands and i will murder you all, im getting on borderlands two and i will murder you me all, im getting into borderlands and i can murder you all, So I spent a few hours making something for fun. . . If you don't know I am a HUGE @Borderlands fan and Maya is one of my favorite characters. So I decided to make myself a wallpaper for my PC. . Here is the original image versus the creation I made :) Enjoy! pic.twitter.com/mLsIfivewfnineJg So I spent a couple of hours doing something for fun... If you don't know that I'm a huge @ Borderlands fan and Maya is one of my favorite characters, I decided to make a wallpaper for my PC.. Here's the original picture compared to the creation I made:) Have fun! pic.twitter.com / mLsIfivewfnineJg So I spent a few hours doing something for fun... If you don't know I'm a HUGE @ Borderlands fan and Maya is one of my favorite characters. So I spent a few hours making something for fun. . . If you don't know I am a HUGE RhandlerR fan and Maya is one of my favorite characters. So I decided to make myself a wallpaper for my PC. . Here is the original image versus the creation I made :) Enjoy! pic.twitter.com/mLsIfivewfnineJg twozeroonezero So I spent a few hours making something for fun. . . If you don't know I am a HUGE RhandlerR fan and Maya is one of my favorite characters. So I decided to make myself a wallpaper for my PC. . Here is the original image versus the creation I made :) Enjoy! pic.twitter.com/mLsIfivewfnineJg was Rock-Hard La Varlope, RARE & POWERFUL, HANDSOME JACKPOT, Borderlands three (Xbox) dlvr.it/RMTrgF   Rock-Hard La Varlope, RARE & POWERFUL, HANDSOME JACKPOT, Borderlands three (Xbox) dlvr.it / RMTrgF Rock-Hard La Varlope, RARE & POWERFUL, HANDSOME JACKPOT, Borderlands three (Xbox) dfr.it / RMTrgF Rock-Hard La Vita, RARE BUT POWERFUL, HANDSOME JACKPOT, Borderlands one (Xbox) dlvr.it/RMTrgF Live Rock - Hard music La la Varlope, RARE & the POWERFUL, Live HANDSOME i JACKPOT, Borderlands three ( Sega Xbox ) dlvr. From it / e RMTrgF I-Hard like me, RARE LONDON DE, HANDSOME twozerooneone, Borderlands three (Xbox) dlvr.it/RMTrgF that was the first borderlands session in a long time where i actually had a really satisfying combat experience. i got some really good kills this was the first Borderlands session in a long time where i actually had a really satisfying fighting experience. i got some really good kills that was the first borderlands session in a long time where i actually had a really satisfying combat experience. i got some really good kills\n",
            "\n"
          ]
        }
      ]
    },
    {
      "cell_type": "markdown",
      "source": [
        "#Removing Punctuation"
      ],
      "metadata": {
        "id": "Im4ljPIQ4FSK"
      }
    },
    {
      "cell_type": "code",
      "source": [
        "# Plain Text\n",
        "print(\"Plain Text:\")\n",
        "\n",
        "wordss = word_tokenize(paragraph)\n",
        "word_without_punc = [word for word in wordss if word.isalnum()]\n",
        "text4 = \" \".join(word_without_punc)\n",
        "\n",
        "print(text4)\n",
        "print()\n",
        "\n",
        "# Corpus\n",
        "print(\"Corpus:\")\n",
        "\n",
        "words_corpus = word_tokenize(corpus_text)\n",
        "wordss_without_punc = [word for word in words_corpus if word.isalnum()]\n",
        "corpus_without_punc = \" \".join(wordss_without_punc)\n",
        "\n",
        "print(corpus_without_punc)\n",
        "print()\n",
        "\n",
        "# Dataset\n",
        "print(\"Dataset:\")\n",
        "\n",
        "words_dataset = word_tokenize(dataset_text)\n",
        "wordss_without_punc = [word for word in words_dataset if word.isalnum()]\n",
        "dataset_without_punc = \" \".join(wordss_without_punc)\n",
        "\n",
        "print(dataset_without_punc)\n",
        "print()"
      ],
      "metadata": {
        "colab": {
          "base_uri": "https://localhost:8080/"
        },
        "id": "QR-IzqTkyXAj",
        "outputId": "d6123a38-ee32-442c-8008-a559d9ffd805"
      },
      "execution_count": null,
      "outputs": [
        {
          "output_type": "stream",
          "name": "stdout",
          "text": [
            "Plain Text:\n",
            "Hi my name is Numun I 6 years old My friends call me panda Reason is I like to sleep and eat all the time I eat 15 donuts on daily basis\n",
            "\n",
            "Corpus:\n",
            "The Tragedie of Hamlet by William Shakespeare 1599 Actus Primus Scoena Prima Enter Barnardo and Francisco two Centinels Barnardo Who s there Fran Nay answer me Stand vnfold your selfe Bar Long liue the King Fran Barnardo Bar He Fran You come most carefully vpon your houre Bar Tis now strook twelue get thee to bed Francisco Fran For this releefe much thankes Tis bitter cold And I am sicke at heart Barn Haue you had quiet Guard Fran Not a Mouse stirring Barn Well goodnight If you do meet Horatio and Marcellus the Riuals of my Watch bid them make hast Enter Horatio and Marcellus Fran I thinke I heare them Stand who s there Hor Friends to this ground Mar And Leige men to the Dane Fran Giue you good night Mar O farwel honest Soldier who hath relieu d you Fra Barnardo ha s my place giue you goodnight Exit Fran Mar Holla Barnardo Bar Say what is Horatio there Hor A peece of him Bar Welcome Horatio welcome good Marcellus Mar What ha s this thing appear d againe to night Bar I haue seene nothing Mar Horatio saies tis but our Fantasie And will not let beleefe take hold of him Touching this dreaded sight twice seene of vs Therefore I haue intreated him along With vs to watch the minutes of this Night That if againe this Apparition come He may approue our eyes and speake to it Hor Tush tush twill not appeare Bar Sit downe a while And let vs once againe assaile your eares That are so fortified against our Story What we two Nights haue seene Hor Well sit we downe And let vs heare Barnardo speake of this Barn Last night of all When yond same Starre that s Westward from the Pole Had made his course t illume that part of Heauen Where now it burnes Marcellus and my selfe The Bell then beating one Mar Peace breake thee of Enter the Ghost Looke where it comes againe Barn In the same figure like the King that s dead Mar Thou art a Scholler speake to it Horatio Barn Lookes it not like the King Marke it Horatio Hora Most like It harrowes me with fear wonder Barn It would be spoke too Mar Question it Horatio Hor What art\n",
            "\n",
            "Dataset:\n",
            "I am coming to the borders and I will kill you all im getting on borderlands and i will kill you all im coming on borderlands and i will murder you all im getting on borderlands 2 and i will murder you me all im getting into borderlands and i can murder you all So I spent a few hours making something for fun If you do know I am a HUGE Borderlands fan and Maya is one of my favorite characters So I decided to make myself a wallpaper for my PC Here is the original image versus the creation I made Enjoy So I spent a couple of hours doing something for fun If you do know that I a huge Borderlands fan and Maya is one of my favorite characters I decided to make a wallpaper for my PC Here the original picture compared to the creation I made Have fun mLsI5wf9Jg So I spent a few hours doing something for fun If you do know I a HUGE Borderlands fan and Maya is one of my favorite characters So I spent a few hours making something for fun If you do know I am a HUGE RhandlerR fan and Maya is one of my favorite characters So I decided to make myself a wallpaper for my PC Here is the original image versus the creation I made Enjoy 2010 So I spent a few hours making something for fun If you do know I am a HUGE RhandlerR fan and Maya is one of my favorite characters So I decided to make myself a wallpaper for my PC Here is the original image versus the creation I made Enjoy was La Varlope RARE POWERFUL HANDSOME JACKPOT Borderlands 3 Xbox La Varlope RARE POWERFUL HANDSOME JACKPOT Borderlands 3 Xbox RMTrgF La Varlope RARE POWERFUL HANDSOME JACKPOT Borderlands 3 Xbox RMTrgF La Vita RARE BUT POWERFUL HANDSOME JACKPOT Borderlands 1 Xbox Live Rock Hard music La la Varlope RARE the POWERFUL Live HANDSOME i JACKPOT Borderlands 3 Sega Xbox dlvr From it e RMTrgF like me RARE LONDON DE HANDSOME 2011 Borderlands 3 Xbox that was the first borderlands session in a long time where i actually had a really satisfying combat experience i got some really good kills this was the first Borderlands session in a long time where i actually had a really satisfying fighting experience i got some really good kills that was the first borderlands session in a long time where i actually had a really satisfying combat experience i got some really good kills\n",
            "\n"
          ]
        }
      ]
    },
    {
      "cell_type": "markdown",
      "source": [
        "#Removing WhiteSpaces"
      ],
      "metadata": {
        "id": "8godZoJh6O_X"
      }
    },
    {
      "cell_type": "code",
      "source": [
        "# Plain Text\n",
        "print(\"Plain Text:\")\n",
        "text5 = \"\".join(wordss)\n",
        "print(text5)\n",
        "print()\n",
        "\n",
        "# Corpus\n",
        "print(\"Corpus:\")\n",
        "\n",
        "corpus_without_whitespaces = \"\".join(words_corpus)\n",
        "print(corpus_without_whitespaces)\n",
        "print()\n",
        "\n",
        "# Dataset\n",
        "print(\"Dataset:\")\n",
        "\n",
        "dataset_without_whitespaces = \"\".join(words_dataset)\n",
        "print(dataset_without_whitespaces)\n",
        "print()"
      ],
      "metadata": {
        "colab": {
          "base_uri": "https://localhost:8080/"
        },
        "id": "aZc9F3VL41ak",
        "outputId": "35c2dc6e-6683-4054-bf15-17507e6ff3d4"
      },
      "execution_count": null,
      "outputs": [
        {
          "output_type": "stream",
          "name": "stdout",
          "text": [
            "Plain Text:\n",
            "Hi,mynameisNumun.I'm6yearsold.Myfriendscallmepanda.ReasonisIliketosleepandeatallthetime.Ieat15donutsondailybasis.\n",
            "\n",
            "Corpus:\n",
            "[TheTragedieofHamletbyWilliamShakespeare1599]ActusPrimus.ScoenaPrima.EnterBarnardoandFranciscotwoCentinels.Barnardo.Who'sthere?Fran.Nayanswerme:Stand&vnfoldyourselfeBar.LongliuetheKingFran.Barnardo?Bar.HeFran.YoucomemostcarefullyvponyourhoureBar.'Tisnowstrooktwelue,gettheetobedFranciscoFran.Forthisreleefemuchthankes:'Tisbittercold,AndIamsickeatheartBarn.HaueyouhadquietGuard?Fran.NotaMousestirringBarn.Well,goodnight.IfyoudomeetHoratioandMarcellus,theRiualsofmyWatch,bidthemmakehast.EnterHoratioandMarcellus.Fran.IthinkeIhearethem.Stand:who'sthere?Hor.FriendstothisgroundMar.AndLeige-mentotheDaneFran.GiueyougoodnightMar.OfarwelhonestSoldier,whohathrelieu'dyou?Fra.Barnardoha'smyplace:giueyougoodnight.ExitFran.Mar.HollaBarnardoBar.Say,whatisHoratiothere?Hor.ApeeceofhimBar.WelcomeHoratio,welcomegoodMarcellusMar.What,ha'sthisthingappear'dagainetonightBar.IhaueseenenothingMar.Horatiosaies,'tisbutourFantasie,AndwillnotletbeleefetakeholdofhimTouchingthisdreadedsight,twiceseeneofvs,ThereforeIhaueintreatedhimalongWithvs,towatchtheminutesofthisNight,ThatifagainethisApparitioncome,Hemayapproueoureyes,andspeaketoitHor.Tush,tush,'twillnotappeareBar.Sitdownea-while,Andletvsonceagaineassaileyoureares,ThataresofortifiedagainstourStory,WhatwetwoNightshaueseeneHor.Well,sitwedowne,AndletvsheareBarnardospeakeofthisBarn.Lastnightofall,WhenyondsameStarrethat'sWestwardfromthePoleHadmadehiscourset'illumethatpartofHeauenWherenowitburnes,Marcellusandmyselfe,TheBellthenbeatingoneMar.Peace,breaketheeof:EntertheGhost.LookewhereitcomesagaineBarn.Inthesamefigure,liketheKingthat'sdeadMar.ThouartaScholler;speaketoitHoratioBarn.LookesitnotliketheKing?MarkeitHoratioHora.Mostlike:Itharrowesmewithfear&wonderBarn.ItwouldbespoketooMar.QuestionitHoratioHor.Whatart\n",
            "\n",
            "Dataset:\n",
            "IamcomingtothebordersandIwillkillyouall,imgettingonborderlandsandiwillkillyouall,imcomingonborderlandsandiwillmurderyouall,imgettingonborderlands2andiwillmurderyoumeall,imgettingintoborderlandsandicanmurderyouall,SoIspentafewhoursmakingsomethingforfun...Ifyoudon'tknowIamaHUGE@BorderlandsfanandMayaisoneofmyfavoritecharacters.SoIdecidedtomakemyselfawallpaperformyPC..HereistheoriginalimageversusthecreationImade:)Enjoy!pic.twitter.com/mLsI5wf9JgSoIspentacoupleofhoursdoingsomethingforfun...Ifyoudon'tknowthatI'mahuge@BorderlandsfanandMayaisoneofmyfavoritecharacters,IdecidedtomakeawallpaperformyPC..Here'stheoriginalpicturecomparedtothecreationImade:)Havefun!pic.twitter.com/mLsI5wf9JgSoIspentafewhoursdoingsomethingforfun...Ifyoudon'tknowI'maHUGE@BorderlandsfanandMayaisoneofmyfavoritecharacters.SoIspentafewhoursmakingsomethingforfun...Ifyoudon'tknowIamaHUGERhandlerRfanandMayaisoneofmyfavoritecharacters.SoIdecidedtomakemyselfawallpaperformyPC..HereistheoriginalimageversusthecreationImade:)Enjoy!pic.twitter.com/mLsI5wf9Jg2010SoIspentafewhoursmakingsomethingforfun...Ifyoudon'tknowIamaHUGERhandlerRfanandMayaisoneofmyfavoritecharacters.SoIdecidedtomakemyselfawallpaperformyPC..HereistheoriginalimageversusthecreationImade:)Enjoy!pic.twitter.com/mLsI5wf9JgwasRock-HardLaVarlope,RARE&POWERFUL,HANDSOMEJACKPOT,Borderlands3(Xbox)dlvr.it/RMTrgFRock-HardLaVarlope,RARE&POWERFUL,HANDSOMEJACKPOT,Borderlands3(Xbox)dlvr.it/RMTrgFRock-HardLaVarlope,RARE&POWERFUL,HANDSOMEJACKPOT,Borderlands3(Xbox)dfr.it/RMTrgFRock-HardLaVita,RAREBUTPOWERFUL,HANDSOMEJACKPOT,Borderlands1(Xbox)dlvr.it/RMTrgFLiveRock-HardmusicLalaVarlope,RARE&thePOWERFUL,LiveHANDSOMEiJACKPOT,Borderlands3(SegaXbox)dlvr.Fromit/eRMTrgFI-Hardlikeme,RARELONDONDE,HANDSOME2011,Borderlands3(Xbox)dlvr.it/RMTrgFthatwasthefirstborderlandssessioninalongtimewhereiactuallyhadareallysatisfyingcombatexperience.igotsomereallygoodkillsthiswasthefirstBorderlandssessioninalongtimewhereiactuallyhadareallysatisfyingfightingexperience.igotsomereallygoodkillsthatwasthefirstborderlandssessioninalongtimewhereiactuallyhadareallysatisfyingcombatexperience.igotsomereallygoodkills\n",
            "\n"
          ]
        }
      ]
    },
    {
      "cell_type": "markdown",
      "source": [
        "#English Stopwords"
      ],
      "metadata": {
        "id": "137BGTZP6zCX"
      }
    },
    {
      "cell_type": "code",
      "source": [
        "from nltk.corpus import stopwords\n",
        "nltk.download('stopwords')\n",
        "\n",
        "words_to_remove = stopwords.words('english')\n",
        "print(words_to_remove)"
      ],
      "metadata": {
        "colab": {
          "base_uri": "https://localhost:8080/"
        },
        "id": "yiyhzTHH6Yr3",
        "outputId": "5fbc485d-5726-4178-a190-f88d26f091ea"
      },
      "execution_count": null,
      "outputs": [
        {
          "output_type": "stream",
          "name": "stdout",
          "text": [
            "['i', 'me', 'my', 'myself', 'we', 'our', 'ours', 'ourselves', 'you', \"you're\", \"you've\", \"you'll\", \"you'd\", 'your', 'yours', 'yourself', 'yourselves', 'he', 'him', 'his', 'himself', 'she', \"she's\", 'her', 'hers', 'herself', 'it', \"it's\", 'its', 'itself', 'they', 'them', 'their', 'theirs', 'themselves', 'what', 'which', 'who', 'whom', 'this', 'that', \"that'll\", 'these', 'those', 'am', 'is', 'are', 'was', 'were', 'be', 'been', 'being', 'have', 'has', 'had', 'having', 'do', 'does', 'did', 'doing', 'a', 'an', 'the', 'and', 'but', 'if', 'or', 'because', 'as', 'until', 'while', 'of', 'at', 'by', 'for', 'with', 'about', 'against', 'between', 'into', 'through', 'during', 'before', 'after', 'above', 'below', 'to', 'from', 'up', 'down', 'in', 'out', 'on', 'off', 'over', 'under', 'again', 'further', 'then', 'once', 'here', 'there', 'when', 'where', 'why', 'how', 'all', 'any', 'both', 'each', 'few', 'more', 'most', 'other', 'some', 'such', 'no', 'nor', 'not', 'only', 'own', 'same', 'so', 'than', 'too', 'very', 's', 't', 'can', 'will', 'just', 'don', \"don't\", 'should', \"should've\", 'now', 'd', 'll', 'm', 'o', 're', 've', 'y', 'ain', 'aren', \"aren't\", 'couldn', \"couldn't\", 'didn', \"didn't\", 'doesn', \"doesn't\", 'hadn', \"hadn't\", 'hasn', \"hasn't\", 'haven', \"haven't\", 'isn', \"isn't\", 'ma', 'mightn', \"mightn't\", 'mustn', \"mustn't\", 'needn', \"needn't\", 'shan', \"shan't\", 'shouldn', \"shouldn't\", 'wasn', \"wasn't\", 'weren', \"weren't\", 'won', \"won't\", 'wouldn', \"wouldn't\"]\n"
          ]
        },
        {
          "output_type": "stream",
          "name": "stderr",
          "text": [
            "[nltk_data] Downloading package stopwords to /root/nltk_data...\n",
            "[nltk_data]   Unzipping corpora/stopwords.zip.\n"
          ]
        }
      ]
    },
    {
      "cell_type": "markdown",
      "source": [
        "#Removing Stopwords"
      ],
      "metadata": {
        "id": "eqWWSuvX-Akg"
      }
    },
    {
      "cell_type": "code",
      "source": [
        "# Plain Text\n",
        "print(\"Plain Text:\")\n",
        "wordz = word_tokenize(text)\n",
        "\n",
        "text6 = \" \".join([token for token in wordz if token not in words_to_remove])\n",
        "print(text6)\n",
        "print()\n",
        "\n",
        "# Corpus:\n",
        "print(\"Corpus:\")\n",
        "\n",
        "word_corpus_lower = word_tokenize(corpus_lower)\n",
        "corpus_without_stopwords = \" \".join([token for token in word_corpus_lower if token not in words_to_remove])\n",
        "print(corpus_without_stopwords)\n",
        "print()\n",
        "\n",
        "# Dataset\n",
        "print(\"Dataset:\")\n",
        "\n",
        "word_dataset_lower = word_tokenize(dataset_lower)\n",
        "dataset_without_stopwords = \" \".join([token for token in word_dataset_lower if token not in words_to_remove])\n",
        "print(dataset_without_stopwords)\n",
        "print()"
      ],
      "metadata": {
        "colab": {
          "base_uri": "https://localhost:8080/"
        },
        "id": "1nBtcP-l-_wU",
        "outputId": "5bd7c044-2806-48d5-926d-d7d8763d1e60"
      },
      "execution_count": null,
      "outputs": [
        {
          "output_type": "stream",
          "name": "stdout",
          "text": [
            "Plain Text:\n",
            "hi , name numun . 'm 6 years old . friends call panda . reason like sleep eat time . eat 15 donuts daily basis .\n",
            "\n",
            "Corpus:\n",
            "[ tragedie hamlet william shakespeare 1599 ] actus primus . scoena prima . enter barnardo francisco two centinels . barnardo . ' ? fran . nay answer : stand & vnfold selfe bar . long liue king fran . barnardo ? bar . fran . come carefully vpon houre bar . ' tis strook twelue , get thee bed francisco fran . releefe much thankes : ' tis bitter cold , sicke heart barn . haue quiet guard ? fran . mouse stirring barn . well , goodnight . meet horatio marcellus , riuals watch , bid make hast . enter horatio marcellus . fran . thinke heare . stand : ' ? hor . friends ground mar . leige - men dane fran . giue good night mar . farwel honest soldier , hath relieu ' ? fra . barnardo ha ' place : giue goodnight . exit fran . mar . holla barnardo bar . say , horatio ? hor . peece bar . welcome horatio , welcome good marcellus mar . , ha ' thing appear ' againe night bar . haue seene nothing mar . horatio saies , ' tis fantasie , let beleefe take hold touching dreaded sight , twice seene vs , therefore haue intreated along vs , watch minutes night , againe apparition come , may approue eyes , speake hor . tush , tush , ' twill appeare bar . sit downe - , let vs againe assaile eares , fortified story , two nights haue seene hor . well , sit downe , let vs heare barnardo speake barn . last night , yond starre ' westward pole made course ' illume part heauen burnes , marcellus selfe , bell beating one mar . peace , breake thee : enter ghost . looke comes againe barn . figure , like king ' dead mar . thou art scholler ; speake horatio barn . lookes like king ? marke horatio hora . like : harrowes fear & wonder barn . would spoke mar . question horatio hor . art\n",
            "\n",
            "Dataset:\n",
            "coming borders kill , im getting borderlands kill , im coming borderlands murder , im getting borderlands 2 murder , im getting borderlands murder , spent hours making something fun . . . n't know huge @ borderlands fan maya one favorite characters . decided make wallpaper pc . . original image versus creation made : ) enjoy ! pic.twitter.com/mlsi5wf9jg spent couple hours something fun ... n't know 'm huge @ borderlands fan maya one favorite characters , decided make wallpaper pc .. 's original picture compared creation made : ) fun ! pic.twitter.com / mlsi5wf9jg spent hours something fun ... n't know 'm huge @ borderlands fan maya one favorite characters . spent hours making something fun . . . n't know huge rhandlerr fan maya one favorite characters . decided make wallpaper pc . . original image versus creation made : ) enjoy ! pic.twitter.com/mlsi5wf9jg 2010 spent hours making something fun . . . n't know huge rhandlerr fan maya one favorite characters . decided make wallpaper pc . . original image versus creation made : ) enjoy ! pic.twitter.com/mlsi5wf9jg rock-hard la varlope , rare & powerful , handsome jackpot , borderlands 3 ( xbox ) dlvr.it/rmtrgf rock-hard la varlope , rare & powerful , handsome jackpot , borderlands 3 ( xbox ) dlvr.it / rmtrgf rock-hard la varlope , rare & powerful , handsome jackpot , borderlands 3 ( xbox ) dfr.it / rmtrgf rock-hard la vita , rare powerful , handsome jackpot , borderlands 1 ( xbox ) dlvr.it/rmtrgf live rock - hard music la la varlope , rare & powerful , live handsome jackpot , borderlands 3 ( sega xbox ) dlvr . / e rmtrgf i-hard like , rare london de , handsome 2011 , borderlands 3 ( xbox ) dlvr.it/rmtrgf first borderlands session long time actually really satisfying combat experience . got really good kills first borderlands session long time actually really satisfying fighting experience . got really good kills first borderlands session long time actually really satisfying combat experience . got really good kills\n",
            "\n"
          ]
        }
      ]
    },
    {
      "cell_type": "markdown",
      "source": [
        "#Count Word Frequency"
      ],
      "metadata": {
        "id": "Q4OUhbDBAjRY"
      }
    },
    {
      "cell_type": "code",
      "source": [
        "from nltk.probability import FreqDist\n",
        "\n",
        "# Plain Text\n",
        "print(\"Plain text:\")\n",
        "\n",
        "frequency_dist = FreqDist(wordss)\n",
        "\n",
        "for word, freq in frequency_dist.items():\n",
        "  print(f\"{word} -> {freq}\")\n",
        "print()\n",
        "\n",
        "# Corpus\n",
        "print(\"Corpus:\")\n",
        "\n",
        "corpus_frequency_dist = FreqDist(words_corpus)\n",
        "\n",
        "for word, freq in corpus_frequency_dist.items():\n",
        "  print(f\"{word} -> {freq}\")\n",
        "print()\n",
        "\n",
        "# Dataset\n",
        "print(\"Dataset:\")\n",
        "\n",
        "dataset_frequency_dist = FreqDist(words_dataset)\n",
        "\n",
        "for word, freq in dataset_frequency_dist.items():\n",
        "  print(f\"{word} -> {freq}\")\n",
        "print()"
      ],
      "metadata": {
        "id": "B-i6hisn_fna",
        "colab": {
          "base_uri": "https://localhost:8080/"
        },
        "outputId": "7560841a-519a-4ea4-d6c0-18c0ae1cf4f9"
      },
      "execution_count": null,
      "outputs": [
        {
          "output_type": "stream",
          "name": "stdout",
          "text": [
            "Plain text:\n",
            "Hi -> 1\n",
            ", -> 1\n",
            "my -> 1\n",
            "name -> 1\n",
            "is -> 2\n",
            "Numun -> 1\n",
            ". -> 5\n",
            "I -> 3\n",
            "'m -> 1\n",
            "6 -> 1\n",
            "years -> 1\n",
            "old -> 1\n",
            "My -> 1\n",
            "friends -> 1\n",
            "call -> 1\n",
            "me -> 1\n",
            "panda -> 1\n",
            "Reason -> 1\n",
            "like -> 1\n",
            "to -> 1\n",
            "sleep -> 1\n",
            "and -> 1\n",
            "eat -> 2\n",
            "all -> 1\n",
            "the -> 1\n",
            "time -> 1\n",
            "15 -> 1\n",
            "donuts -> 1\n",
            "on -> 1\n",
            "daily -> 1\n",
            "basis -> 1\n",
            "\n",
            "Corpus:\n",
            "[ -> 1\n",
            "The -> 2\n",
            "Tragedie -> 1\n",
            "of -> 10\n",
            "Hamlet -> 1\n",
            "by -> 1\n",
            "William -> 1\n",
            "Shakespeare -> 1\n",
            "1599 -> 1\n",
            "] -> 1\n",
            "Actus -> 1\n",
            "Primus -> 1\n",
            ". -> 46\n",
            "Scoena -> 1\n",
            "Prima -> 1\n",
            "Enter -> 3\n",
            "Barnardo -> 6\n",
            "and -> 5\n",
            "Francisco -> 2\n",
            "two -> 2\n",
            "Centinels -> 1\n",
            "Who -> 1\n",
            "' -> 13\n",
            "s -> 6\n",
            "there -> 3\n",
            "? -> 7\n",
            "Fran -> 8\n",
            "Nay -> 1\n",
            "answer -> 1\n",
            "me -> 2\n",
            ": -> 6\n",
            "Stand -> 2\n",
            "& -> 2\n",
            "vnfold -> 1\n",
            "your -> 3\n",
            "selfe -> 2\n",
            "Bar -> 7\n",
            "Long -> 1\n",
            "liue -> 1\n",
            "the -> 9\n",
            "King -> 3\n",
            "He -> 2\n",
            "You -> 1\n",
            "come -> 2\n",
            "most -> 1\n",
            "carefully -> 1\n",
            "vpon -> 1\n",
            "houre -> 1\n",
            "Tis -> 2\n",
            "now -> 2\n",
            "strook -> 1\n",
            "twelue -> 1\n",
            ", -> 29\n",
            "get -> 1\n",
            "thee -> 2\n",
            "to -> 7\n",
            "bed -> 1\n",
            "For -> 1\n",
            "this -> 7\n",
            "releefe -> 1\n",
            "much -> 1\n",
            "thankes -> 1\n",
            "bitter -> 1\n",
            "cold -> 1\n",
            "And -> 5\n",
            "I -> 5\n",
            "am -> 1\n",
            "sicke -> 1\n",
            "at -> 1\n",
            "heart -> 1\n",
            "Barn -> 6\n",
            "Haue -> 1\n",
            "you -> 5\n",
            "had -> 1\n",
            "quiet -> 1\n",
            "Guard -> 1\n",
            "Not -> 1\n",
            "a -> 3\n",
            "Mouse -> 1\n",
            "stirring -> 1\n",
            "Well -> 2\n",
            "goodnight -> 2\n",
            "If -> 1\n",
            "do -> 1\n",
            "meet -> 1\n",
            "Horatio -> 8\n",
            "Marcellus -> 4\n",
            "Riuals -> 1\n",
            "my -> 3\n",
            "Watch -> 1\n",
            "bid -> 1\n",
            "them -> 2\n",
            "make -> 1\n",
            "hast -> 1\n",
            "thinke -> 1\n",
            "heare -> 2\n",
            "who -> 2\n",
            "Hor -> 5\n",
            "Friends -> 1\n",
            "ground -> 1\n",
            "Mar -> 8\n",
            "Leige -> 1\n",
            "- -> 2\n",
            "men -> 1\n",
            "Dane -> 1\n",
            "Giue -> 1\n",
            "good -> 2\n",
            "night -> 3\n",
            "O -> 1\n",
            "farwel -> 1\n",
            "honest -> 1\n",
            "Soldier -> 1\n",
            "hath -> 1\n",
            "relieu -> 1\n",
            "d -> 2\n",
            "Fra -> 1\n",
            "ha -> 2\n",
            "place -> 1\n",
            "giue -> 1\n",
            "Exit -> 1\n",
            "Holla -> 1\n",
            "Say -> 1\n",
            "what -> 1\n",
            "is -> 1\n",
            "A -> 1\n",
            "peece -> 1\n",
            "him -> 3\n",
            "Welcome -> 1\n",
            "welcome -> 1\n",
            "What -> 3\n",
            "thing -> 1\n",
            "appear -> 1\n",
            "againe -> 4\n",
            "haue -> 3\n",
            "seene -> 3\n",
            "nothing -> 1\n",
            "saies -> 1\n",
            "tis -> 1\n",
            "but -> 1\n",
            "our -> 3\n",
            "Fantasie -> 1\n",
            "will -> 1\n",
            "not -> 3\n",
            "let -> 3\n",
            "beleefe -> 1\n",
            "take -> 1\n",
            "hold -> 1\n",
            "Touching -> 1\n",
            "dreaded -> 1\n",
            "sight -> 1\n",
            "twice -> 1\n",
            "vs -> 4\n",
            "Therefore -> 1\n",
            "intreated -> 1\n",
            "along -> 1\n",
            "With -> 1\n",
            "watch -> 1\n",
            "minutes -> 1\n",
            "Night -> 1\n",
            "That -> 2\n",
            "if -> 1\n",
            "Apparition -> 1\n",
            "may -> 1\n",
            "approue -> 1\n",
            "eyes -> 1\n",
            "speake -> 3\n",
            "it -> 7\n",
            "Tush -> 1\n",
            "tush -> 1\n",
            "twill -> 1\n",
            "appeare -> 1\n",
            "Sit -> 1\n",
            "downe -> 2\n",
            "while -> 1\n",
            "once -> 1\n",
            "assaile -> 1\n",
            "eares -> 1\n",
            "are -> 1\n",
            "so -> 1\n",
            "fortified -> 1\n",
            "against -> 1\n",
            "Story -> 1\n",
            "we -> 2\n",
            "Nights -> 1\n",
            "sit -> 1\n",
            "Last -> 1\n",
            "all -> 1\n",
            "When -> 1\n",
            "yond -> 1\n",
            "same -> 2\n",
            "Starre -> 1\n",
            "that -> 3\n",
            "Westward -> 1\n",
            "from -> 1\n",
            "Pole -> 1\n",
            "Had -> 1\n",
            "made -> 1\n",
            "his -> 1\n",
            "course -> 1\n",
            "t -> 1\n",
            "illume -> 1\n",
            "part -> 1\n",
            "Heauen -> 1\n",
            "Where -> 1\n",
            "burnes -> 1\n",
            "Bell -> 1\n",
            "then -> 1\n",
            "beating -> 1\n",
            "one -> 1\n",
            "Peace -> 1\n",
            "breake -> 1\n",
            "Ghost -> 1\n",
            "Looke -> 1\n",
            "where -> 1\n",
            "comes -> 1\n",
            "In -> 1\n",
            "figure -> 1\n",
            "like -> 3\n",
            "dead -> 1\n",
            "Thou -> 1\n",
            "art -> 2\n",
            "Scholler -> 1\n",
            "; -> 1\n",
            "Lookes -> 1\n",
            "Marke -> 1\n",
            "Hora -> 1\n",
            "Most -> 1\n",
            "It -> 2\n",
            "harrowes -> 1\n",
            "with -> 1\n",
            "fear -> 1\n",
            "wonder -> 1\n",
            "would -> 1\n",
            "be -> 1\n",
            "spoke -> 1\n",
            "too -> 1\n",
            "Question -> 1\n",
            "\n",
            "Dataset:\n",
            "I -> 20\n",
            "am -> 4\n",
            "coming -> 2\n",
            "to -> 6\n",
            "the -> 13\n",
            "borders -> 1\n",
            "and -> 10\n",
            "will -> 4\n",
            "kill -> 2\n",
            "you -> 10\n",
            "all -> 5\n",
            ", -> 24\n",
            "im -> 4\n",
            "getting -> 3\n",
            "on -> 3\n",
            "borderlands -> 6\n",
            "i -> 11\n",
            "murder -> 3\n",
            "2 -> 1\n",
            "me -> 2\n",
            "into -> 1\n",
            "can -> 1\n",
            "So -> 8\n",
            "spent -> 5\n",
            "a -> 20\n",
            "few -> 4\n",
            "hours -> 5\n",
            "making -> 3\n",
            "something -> 5\n",
            "for -> 9\n",
            "fun -> 6\n",
            ". -> 23\n",
            "If -> 5\n",
            "do -> 5\n",
            "n't -> 5\n",
            "know -> 5\n",
            "HUGE -> 4\n",
            "@ -> 3\n",
            "Borderlands -> 10\n",
            "fan -> 5\n",
            "Maya -> 5\n",
            "is -> 8\n",
            "one -> 5\n",
            "of -> 6\n",
            "my -> 9\n",
            "favorite -> 5\n",
            "characters -> 5\n",
            "decided -> 4\n",
            "make -> 4\n",
            "myself -> 3\n",
            "wallpaper -> 4\n",
            "PC -> 4\n",
            "Here -> 4\n",
            "original -> 4\n",
            "image -> 3\n",
            "versus -> 3\n",
            "creation -> 4\n",
            "made -> 4\n",
            ": -> 4\n",
            ") -> 10\n",
            "Enjoy -> 3\n",
            "! -> 4\n",
            "pic.twitter.com/mLsI5wf9Jg -> 3\n",
            "couple -> 1\n",
            "doing -> 2\n",
            "... -> 2\n",
            "that -> 3\n",
            "'m -> 2\n",
            "huge -> 1\n",
            ".. -> 1\n",
            "'s -> 1\n",
            "picture -> 1\n",
            "compared -> 1\n",
            "Have -> 1\n",
            "pic.twitter.com -> 1\n",
            "/ -> 4\n",
            "mLsI5wf9Jg -> 1\n",
            "RhandlerR -> 2\n",
            "2010 -> 1\n",
            "was -> 4\n",
            "Rock-Hard -> 4\n",
            "La -> 5\n",
            "Varlope -> 4\n",
            "RARE -> 6\n",
            "& -> 4\n",
            "POWERFUL -> 5\n",
            "HANDSOME -> 6\n",
            "JACKPOT -> 5\n",
            "3 -> 5\n",
            "( -> 6\n",
            "Xbox -> 6\n",
            "dlvr.it/RMTrgF -> 3\n",
            "dlvr.it -> 1\n",
            "RMTrgF -> 3\n",
            "dfr.it -> 1\n",
            "Vita -> 1\n",
            "BUT -> 1\n",
            "1 -> 1\n",
            "Live -> 2\n",
            "Rock -> 1\n",
            "- -> 1\n",
            "Hard -> 1\n",
            "music -> 1\n",
            "la -> 1\n",
            "Sega -> 1\n",
            "dlvr -> 1\n",
            "From -> 1\n",
            "it -> 1\n",
            "e -> 1\n",
            "I-Hard -> 1\n",
            "like -> 1\n",
            "LONDON -> 1\n",
            "DE -> 1\n",
            "2011 -> 1\n",
            "first -> 3\n",
            "session -> 3\n",
            "in -> 3\n",
            "long -> 3\n",
            "time -> 3\n",
            "where -> 3\n",
            "actually -> 3\n",
            "had -> 3\n",
            "really -> 6\n",
            "satisfying -> 3\n",
            "combat -> 2\n",
            "experience -> 3\n",
            "got -> 3\n",
            "some -> 3\n",
            "good -> 3\n",
            "kills -> 3\n",
            "this -> 1\n",
            "fighting -> 1\n",
            "\n"
          ]
        }
      ]
    },
    {
      "cell_type": "markdown",
      "source": [
        "#Porter Stemmer"
      ],
      "metadata": {
        "id": "E_huEbRnecZd"
      }
    },
    {
      "cell_type": "code",
      "source": [
        "from nltk.stem import PorterStemmer\n",
        "\n",
        "# Plain Text\n",
        "print(\"Plain Text:\")\n",
        "\n",
        "input_text = \"Running, runner, ran, runs are all forms of word run\"\n",
        "\n",
        "word_text = word_tokenize(input_text)\n",
        "porter_stemmer = PorterStemmer()\n",
        "\n",
        "stemmed_words = [porter_stemmer.stem(word) for word in word_text]\n",
        "text_after_stemming = ' '.join(stemmed_words)\n",
        "\n",
        "print(text_after_stemming)\n",
        "print()\n",
        "\n",
        "# Corpus\n",
        "print(\"Corpus:\")\n",
        "\n",
        "corpus_stemmed_words = [porter_stemmer.stem(word) for word in words_corpus]\n",
        "corpus_text_after_stemming = ' '.join(corpus_stemmed_words)\n",
        "\n",
        "print(corpus_text_after_stemming)\n",
        "print()\n",
        "\n",
        "# Dataset\n",
        "print(\"Dataset:\")\n",
        "\n",
        "dataset_stemmed_words = [porter_stemmer.stem(word) for word in words_dataset]\n",
        "dataset_text_after_stemming = ' '.join(dataset_stemmed_words)\n",
        "\n",
        "print(dataset_text_after_stemming)\n",
        "print()"
      ],
      "metadata": {
        "id": "0IGza5YiBCFa",
        "colab": {
          "base_uri": "https://localhost:8080/"
        },
        "outputId": "c2335449-e197-4088-fda0-c793ec10bc97"
      },
      "execution_count": null,
      "outputs": [
        {
          "output_type": "stream",
          "name": "stdout",
          "text": [
            "Plain Text:\n",
            "run , runner , ran , run are all form of word run\n",
            "\n",
            "Corpus:\n",
            "[ the tragedi of hamlet by william shakespear 1599 ] actu primu . scoena prima . enter barnardo and francisco two centinel . barnardo . who ' s there ? fran . nay answer me : stand & vnfold your self bar . long liue the king fran . barnardo ? bar . he fran . you come most care vpon your hour bar . ' ti now strook twelu , get thee to bed francisco fran . for thi releef much thank : ' ti bitter cold , and i am sick at heart barn . haue you had quiet guard ? fran . not a mous stir barn . well , goodnight . if you do meet horatio and marcellu , the riual of my watch , bid them make hast . enter horatio and marcellu . fran . i think i hear them . stand : who ' s there ? hor . friend to thi ground mar . and leig - men to the dane fran . giue you good night mar . o farwel honest soldier , who hath relieu ' d you ? fra . barnardo ha ' s my place : giue you goodnight . exit fran . mar . holla barnardo bar . say , what is horatio there ? hor . a peec of him bar . welcom horatio , welcom good marcellu mar . what , ha ' s thi thing appear ' d again to night bar . i haue seen noth mar . horatio sai , ' ti but our fantasi , and will not let beleef take hold of him touch thi dread sight , twice seen of vs , therefor i haue intreat him along with vs , to watch the minut of thi night , that if again thi apparit come , he may approu our eye , and speak to it hor . tush , tush , ' twill not appear bar . sit down a - while , and let vs onc again assail your ear , that are so fortifi against our stori , what we two night haue seen hor . well , sit we down , and let vs hear barnardo speak of thi barn . last night of all , when yond same starr that ' s westward from the pole had made hi cours t ' illum that part of heauen where now it burn , marcellu and my self , the bell then beat one mar . peac , break thee of : enter the ghost . look where it come again barn . in the same figur , like the king that ' s dead mar . thou art a scholler ; speak to it horatio barn . look it not like the king ? mark it horatio hora . most like : it harrow me with fear & wonder barn . it would be spoke too mar . question it horatio hor . what art\n",
            "\n",
            "Dataset:\n",
            "i am come to the border and i will kill you all , im get on borderland and i will kill you all , im come on borderland and i will murder you all , im get on borderland 2 and i will murder you me all , im get into borderland and i can murder you all , so i spent a few hour make someth for fun . . . if you do n't know i am a huge @ borderland fan and maya is one of my favorit charact . so i decid to make myself a wallpap for my pc . . here is the origin imag versu the creation i made : ) enjoy ! pic.twitter.com/mlsi5wf9jg so i spent a coupl of hour do someth for fun ... if you do n't know that i 'm a huge @ borderland fan and maya is one of my favorit charact , i decid to make a wallpap for my pc .. here 's the origin pictur compar to the creation i made : ) have fun ! pic.twitter.com / mlsi5wf9jg so i spent a few hour do someth for fun ... if you do n't know i 'm a huge @ borderland fan and maya is one of my favorit charact . so i spent a few hour make someth for fun . . . if you do n't know i am a huge rhandlerr fan and maya is one of my favorit charact . so i decid to make myself a wallpap for my pc . . here is the origin imag versu the creation i made : ) enjoy ! pic.twitter.com/mlsi5wf9jg 2010 so i spent a few hour make someth for fun . . . if you do n't know i am a huge rhandlerr fan and maya is one of my favorit charact . so i decid to make myself a wallpap for my pc . . here is the origin imag versu the creation i made : ) enjoy ! pic.twitter.com/mlsi5wf9jg wa rock-hard la varlop , rare & power , handsom jackpot , borderland 3 ( xbox ) dlvr.it/rmtrgf rock-hard la varlop , rare & power , handsom jackpot , borderland 3 ( xbox ) dlvr.it / rmtrgf rock-hard la varlop , rare & power , handsom jackpot , borderland 3 ( xbox ) dfr.it / rmtrgf rock-hard la vita , rare but power , handsom jackpot , borderland 1 ( xbox ) dlvr.it/rmtrgf live rock - hard music la la varlop , rare & the power , live handsom i jackpot , borderland 3 ( sega xbox ) dlvr . from it / e rmtrgf i-hard like me , rare london de , handsom 2011 , borderland 3 ( xbox ) dlvr.it/rmtrgf that wa the first borderland session in a long time where i actual had a realli satisfi combat experi . i got some realli good kill thi wa the first borderland session in a long time where i actual had a realli satisfi fight experi . i got some realli good kill that wa the first borderland session in a long time where i actual had a realli satisfi combat experi . i got some realli good kill\n",
            "\n"
          ]
        }
      ]
    },
    {
      "cell_type": "markdown",
      "source": [
        "#Lancester Stemmer"
      ],
      "metadata": {
        "id": "6v8zCFGXgb8p"
      }
    },
    {
      "cell_type": "code",
      "source": [
        "from nltk.stem import LancasterStemmer\n",
        "\n",
        "lancaster_stemmer = LancasterStemmer()\n",
        "\n",
        "# Plain Text\n",
        "print(\"Plain Text:\")\n",
        "\n",
        "stemmed_words2 = [lancaster_stemmer.stem(word) for word in word_text]\n",
        "text_after_stemming2 = ' '.join(stemmed_words2)\n",
        "\n",
        "print(text_after_stemming2)\n",
        "print()\n",
        "\n",
        "# Corpus\n",
        "print(\"Corpus:\")\n",
        "\n",
        "corpus_stemmed_words2 = [lancaster_stemmer.stem(word) for word in words_corpus]\n",
        "corpus_text_after_stemming2 = ' '.join(corpus_stemmed_words2)\n",
        "\n",
        "print(corpus_text_after_stemming)\n",
        "print()\n",
        "\n",
        "# Dataset\n",
        "print(\"Dataset:\")\n",
        "\n",
        "dataset_stemmed_words2 = [lancaster_stemmer.stem(word) for word in words_dataset]\n",
        "dataset_text_after_stemming2 = ' '.join(dataset_stemmed_words2)\n",
        "\n",
        "print(dataset_text_after_stemming)\n",
        "print()"
      ],
      "metadata": {
        "colab": {
          "base_uri": "https://localhost:8080/"
        },
        "id": "lCxurm7rfEt4",
        "outputId": "c0cc902f-8318-435b-dd99-f52339fb9c7d"
      },
      "execution_count": null,
      "outputs": [
        {
          "output_type": "stream",
          "name": "stdout",
          "text": [
            "Plain Text:\n",
            "run , run , ran , run ar al form of word run\n",
            "\n",
            "Corpus:\n",
            "[ the tragedi of hamlet by william shakespear 1599 ] actu primu . scoena prima . enter barnardo and francisco two centinel . barnardo . who ' s there ? fran . nay answer me : stand & vnfold your self bar . long liue the king fran . barnardo ? bar . he fran . you come most care vpon your hour bar . ' ti now strook twelu , get thee to bed francisco fran . for thi releef much thank : ' ti bitter cold , and i am sick at heart barn . haue you had quiet guard ? fran . not a mous stir barn . well , goodnight . if you do meet horatio and marcellu , the riual of my watch , bid them make hast . enter horatio and marcellu . fran . i think i hear them . stand : who ' s there ? hor . friend to thi ground mar . and leig - men to the dane fran . giue you good night mar . o farwel honest soldier , who hath relieu ' d you ? fra . barnardo ha ' s my place : giue you goodnight . exit fran . mar . holla barnardo bar . say , what is horatio there ? hor . a peec of him bar . welcom horatio , welcom good marcellu mar . what , ha ' s thi thing appear ' d again to night bar . i haue seen noth mar . horatio sai , ' ti but our fantasi , and will not let beleef take hold of him touch thi dread sight , twice seen of vs , therefor i haue intreat him along with vs , to watch the minut of thi night , that if again thi apparit come , he may approu our eye , and speak to it hor . tush , tush , ' twill not appear bar . sit down a - while , and let vs onc again assail your ear , that are so fortifi against our stori , what we two night haue seen hor . well , sit we down , and let vs hear barnardo speak of thi barn . last night of all , when yond same starr that ' s westward from the pole had made hi cours t ' illum that part of heauen where now it burn , marcellu and my self , the bell then beat one mar . peac , break thee of : enter the ghost . look where it come again barn . in the same figur , like the king that ' s dead mar . thou art a scholler ; speak to it horatio barn . look it not like the king ? mark it horatio hora . most like : it harrow me with fear & wonder barn . it would be spoke too mar . question it horatio hor . what art\n",
            "\n",
            "Dataset:\n",
            "i am come to the border and i will kill you all , im get on borderland and i will kill you all , im come on borderland and i will murder you all , im get on borderland 2 and i will murder you me all , im get into borderland and i can murder you all , so i spent a few hour make someth for fun . . . if you do n't know i am a huge @ borderland fan and maya is one of my favorit charact . so i decid to make myself a wallpap for my pc . . here is the origin imag versu the creation i made : ) enjoy ! pic.twitter.com/mlsi5wf9jg so i spent a coupl of hour do someth for fun ... if you do n't know that i 'm a huge @ borderland fan and maya is one of my favorit charact , i decid to make a wallpap for my pc .. here 's the origin pictur compar to the creation i made : ) have fun ! pic.twitter.com / mlsi5wf9jg so i spent a few hour do someth for fun ... if you do n't know i 'm a huge @ borderland fan and maya is one of my favorit charact . so i spent a few hour make someth for fun . . . if you do n't know i am a huge rhandlerr fan and maya is one of my favorit charact . so i decid to make myself a wallpap for my pc . . here is the origin imag versu the creation i made : ) enjoy ! pic.twitter.com/mlsi5wf9jg 2010 so i spent a few hour make someth for fun . . . if you do n't know i am a huge rhandlerr fan and maya is one of my favorit charact . so i decid to make myself a wallpap for my pc . . here is the origin imag versu the creation i made : ) enjoy ! pic.twitter.com/mlsi5wf9jg wa rock-hard la varlop , rare & power , handsom jackpot , borderland 3 ( xbox ) dlvr.it/rmtrgf rock-hard la varlop , rare & power , handsom jackpot , borderland 3 ( xbox ) dlvr.it / rmtrgf rock-hard la varlop , rare & power , handsom jackpot , borderland 3 ( xbox ) dfr.it / rmtrgf rock-hard la vita , rare but power , handsom jackpot , borderland 1 ( xbox ) dlvr.it/rmtrgf live rock - hard music la la varlop , rare & the power , live handsom i jackpot , borderland 3 ( sega xbox ) dlvr . from it / e rmtrgf i-hard like me , rare london de , handsom 2011 , borderland 3 ( xbox ) dlvr.it/rmtrgf that wa the first borderland session in a long time where i actual had a realli satisfi combat experi . i got some realli good kill thi wa the first borderland session in a long time where i actual had a realli satisfi fight experi . i got some realli good kill that wa the first borderland session in a long time where i actual had a realli satisfi combat experi . i got some realli good kill\n",
            "\n"
          ]
        }
      ]
    },
    {
      "cell_type": "markdown",
      "source": [
        "#Lemmatization"
      ],
      "metadata": {
        "id": "dXekPhu0hV8u"
      }
    },
    {
      "cell_type": "code",
      "source": [
        "from nltk.stem import WordNetLemmatizer\n",
        "nltk.download('wordnet')\n",
        "\n",
        "word_net_lemmatizer = WordNetLemmatizer()\n",
        "\n",
        "# Plain Text\n",
        "print(\"Plain Text:\")\n",
        "\n",
        "lemmatized_words = [word_net_lemmatizer.lemmatize(word) for word in word_text]\n",
        "text_after_lemmatization = ' '.join(lemmatized_words)\n",
        "\n",
        "print(text_after_lemmatization)\n",
        "print()\n",
        "\n",
        "# Corpus\n",
        "print(\"Corpus:\")\n",
        "\n",
        "corpus_lemmatized_words = [word_net_lemmatizer.lemmatize(word) for word in words_corpus]\n",
        "corpus_text_after_lemmatization = ' '.join(corpus_lemmatized_words)\n",
        "\n",
        "print(corpus_text_after_lemmatization)\n",
        "print()\n",
        "\n",
        "# Dataset\n",
        "print(\"Dataset:\")\n",
        "\n",
        "dataset_lemmatized_words = [word_net_lemmatizer.lemmatize(word) for word in words_dataset]\n",
        "dataset_text_after_lemmatization = ' '.join(dataset_lemmatized_words)\n",
        "\n",
        "print(dataset_text_after_lemmatization)\n",
        "print()"
      ],
      "metadata": {
        "colab": {
          "base_uri": "https://localhost:8080/"
        },
        "id": "v314Xfv6hLLM",
        "outputId": "ac640785-1faa-4dab-ea5b-6ce338b273b6"
      },
      "execution_count": null,
      "outputs": [
        {
          "output_type": "stream",
          "name": "stdout",
          "text": [
            "Plain Text:\n"
          ]
        },
        {
          "output_type": "stream",
          "name": "stderr",
          "text": [
            "[nltk_data] Downloading package wordnet to /root/nltk_data...\n"
          ]
        },
        {
          "output_type": "stream",
          "name": "stdout",
          "text": [
            "Running , runner , ran , run are all form of word run\n",
            "\n",
            "Corpus:\n",
            "[ The Tragedie of Hamlet by William Shakespeare 1599 ] Actus Primus . Scoena Prima . Enter Barnardo and Francisco two Centinels . Barnardo . Who ' s there ? Fran . Nay answer me : Stand & vnfold your selfe Bar . Long liue the King Fran . Barnardo ? Bar . He Fran . You come most carefully vpon your houre Bar . ' Tis now strook twelue , get thee to bed Francisco Fran . For this releefe much thankes : ' Tis bitter cold , And I am sicke at heart Barn . Haue you had quiet Guard ? Fran . Not a Mouse stirring Barn . Well , goodnight . If you do meet Horatio and Marcellus , the Riuals of my Watch , bid them make hast . Enter Horatio and Marcellus . Fran . I thinke I heare them . Stand : who ' s there ? Hor . Friends to this ground Mar . And Leige - men to the Dane Fran . Giue you good night Mar . O farwel honest Soldier , who hath relieu ' d you ? Fra . Barnardo ha ' s my place : giue you goodnight . Exit Fran . Mar . Holla Barnardo Bar . Say , what is Horatio there ? Hor . A peece of him Bar . Welcome Horatio , welcome good Marcellus Mar . What , ha ' s this thing appear ' d againe to night Bar . I haue seene nothing Mar . Horatio say , ' ti but our Fantasie , And will not let beleefe take hold of him Touching this dreaded sight , twice seene of v , Therefore I haue intreated him along With v , to watch the minute of this Night , That if againe this Apparition come , He may approue our eye , and speake to it Hor . Tush , tush , ' twill not appeare Bar . Sit downe a - while , And let v once againe assaile your eares , That are so fortified against our Story , What we two Nights haue seene Hor . Well , sit we downe , And let v heare Barnardo speake of this Barn . Last night of all , When yond same Starre that ' s Westward from the Pole Had made his course t ' illume that part of Heauen Where now it burnes , Marcellus and my selfe , The Bell then beating one Mar . Peace , breake thee of : Enter the Ghost . Looke where it come againe Barn . In the same figure , like the King that ' s dead Mar . Thou art a Scholler ; speake to it Horatio Barn . Lookes it not like the King ? Marke it Horatio Hora . Most like : It harrowes me with fear & wonder Barn . It would be spoke too Mar . Question it Horatio Hor . What art\n",
            "\n",
            "Dataset:\n",
            "I am coming to the border and I will kill you all , im getting on borderland and i will kill you all , im coming on borderland and i will murder you all , im getting on borderland 2 and i will murder you me all , im getting into borderland and i can murder you all , So I spent a few hour making something for fun . . . If you do n't know I am a HUGE @ Borderlands fan and Maya is one of my favorite character . So I decided to make myself a wallpaper for my PC . . Here is the original image versus the creation I made : ) Enjoy ! pic.twitter.com/mLsI5wf9Jg So I spent a couple of hour doing something for fun ... If you do n't know that I 'm a huge @ Borderlands fan and Maya is one of my favorite character , I decided to make a wallpaper for my PC .. Here 's the original picture compared to the creation I made : ) Have fun ! pic.twitter.com / mLsI5wf9Jg So I spent a few hour doing something for fun ... If you do n't know I 'm a HUGE @ Borderlands fan and Maya is one of my favorite character . So I spent a few hour making something for fun . . . If you do n't know I am a HUGE RhandlerR fan and Maya is one of my favorite character . So I decided to make myself a wallpaper for my PC . . Here is the original image versus the creation I made : ) Enjoy ! pic.twitter.com/mLsI5wf9Jg 2010 So I spent a few hour making something for fun . . . If you do n't know I am a HUGE RhandlerR fan and Maya is one of my favorite character . So I decided to make myself a wallpaper for my PC . . Here is the original image versus the creation I made : ) Enjoy ! pic.twitter.com/mLsI5wf9Jg wa Rock-Hard La Varlope , RARE & POWERFUL , HANDSOME JACKPOT , Borderlands 3 ( Xbox ) dlvr.it/RMTrgF Rock-Hard La Varlope , RARE & POWERFUL , HANDSOME JACKPOT , Borderlands 3 ( Xbox ) dlvr.it / RMTrgF Rock-Hard La Varlope , RARE & POWERFUL , HANDSOME JACKPOT , Borderlands 3 ( Xbox ) dfr.it / RMTrgF Rock-Hard La Vita , RARE BUT POWERFUL , HANDSOME JACKPOT , Borderlands 1 ( Xbox ) dlvr.it/RMTrgF Live Rock - Hard music La la Varlope , RARE & the POWERFUL , Live HANDSOME i JACKPOT , Borderlands 3 ( Sega Xbox ) dlvr . From it / e RMTrgF I-Hard like me , RARE LONDON DE , HANDSOME 2011 , Borderlands 3 ( Xbox ) dlvr.it/RMTrgF that wa the first borderland session in a long time where i actually had a really satisfying combat experience . i got some really good kill this wa the first Borderlands session in a long time where i actually had a really satisfying fighting experience . i got some really good kill that wa the first borderland session in a long time where i actually had a really satisfying combat experience . i got some really good kill\n",
            "\n"
          ]
        }
      ]
    },
    {
      "cell_type": "markdown",
      "source": [
        "#Using Spacy"
      ],
      "metadata": {
        "id": "1SWugmRMrT4J"
      }
    },
    {
      "cell_type": "code",
      "source": [
        "import spacy\n",
        "from spacy.lang.en import English\n",
        "nlp = spacy.load('en_core_web_sm')"
      ],
      "metadata": {
        "id": "fwShs9G5rXmx"
      },
      "execution_count": null,
      "outputs": []
    },
    {
      "cell_type": "code",
      "source": [
        "doc = nlp(paragraph)\n",
        "doc_corpus = nlp(corpus_text)"
      ],
      "metadata": {
        "id": "l__UETiX8GpU"
      },
      "execution_count": null,
      "outputs": []
    },
    {
      "cell_type": "markdown",
      "source": [
        "#Tokenization using Spacy"
      ],
      "metadata": {
        "id": "F4RbNtwM8XOU"
      }
    },
    {
      "cell_type": "code",
      "source": [
        "# Plain Text\n",
        "print(\"Plain Text:\")\n",
        "\n",
        "sent_tokens = [sent.text for sent in doc.sents]\n",
        "print(sent_tokens)\n",
        "word_tokens = [token.text for token in doc]\n",
        "print(word_tokens)\n",
        "\n",
        "print()\n",
        "\n",
        "# Corpus\n",
        "print(\"Corpus:\")\n",
        "\n",
        "corpus_sent_tokens = [sent.text for sent in doc_corpus.sents]\n",
        "print(corpus_sent_tokens)\n",
        "corpus_word_tokens = [token.text for token in doc_corpus]\n",
        "print(corpus_word_tokens)"
      ],
      "metadata": {
        "colab": {
          "base_uri": "https://localhost:8080/"
        },
        "id": "vSnMlaAj8I6c",
        "outputId": "944240f5-036e-4137-e792-9d0795ba3c96"
      },
      "execution_count": null,
      "outputs": [
        {
          "output_type": "stream",
          "name": "stdout",
          "text": [
            "Plain Text:\n",
            "['Hi, my name is Numun.', \"I'm 6 years old.\", 'My friends call me panda.', 'Reason is I like to sleep and eat all the time.', 'I eat 15 donuts on daily basis.']\n",
            "['Hi', ',', 'my', 'name', 'is', 'Numun', '.', 'I', \"'m\", '6', 'years', 'old', '.', 'My', 'friends', 'call', 'me', 'panda', '.', 'Reason', 'is', 'I', 'like', 'to', 'sleep', 'and', 'eat', 'all', 'the', 'time', '.', 'I', 'eat', '15', 'donuts', 'on', 'daily', 'basis', '.']\n",
            "\n",
            "Corpus:\n",
            "['[ The Tragedie of Hamlet by William Shakespeare 1599 ]', 'Actus Primus .', 'Scoena Prima .', 'Enter Barnardo and Francisco two Centinels .', 'Barnardo .', \"Who ' s there ?\", 'Fran .', 'Nay answer me : Stand & vnfold your selfe Bar .', 'Long liue the King Fran .', 'Barnardo ?', 'Bar .', 'He Fran .', \"You come most carefully vpon your houre Bar . '\", 'Tis now strook twelue , get thee to bed Francisco Fran .', \"For this releefe much thankes : ' Tis bitter cold , And I am sicke at heart Barn .\", 'Haue you had quiet Guard ?', 'Fran .', 'Not a Mouse stirring Barn .', 'Well , goodnight .', 'If you do meet Horatio and Marcellus , the Riuals of my Watch , bid them make hast .', 'Enter Horatio and Marcellus .', 'Fran .', 'I thinke I heare them .', \"Stand : who ' s there ?\", 'Hor .', 'Friends to this ground Mar .', 'And Leige - men to the Dane Fran .', 'Giue you good night Mar .', \"O farwel honest Soldier , who hath relieu '\", 'd you ?', 'Fra .', \"Barnardo ha ' s my place : giue you goodnight .\", 'Exit Fran .', 'Mar .', 'Holla Barnardo Bar .', 'Say , what is Horatio there ?', 'Hor .', 'A peece of him Bar .', 'Welcome Horatio , welcome good Marcellus Mar .', \"What , ha ' s this thing appear ' d againe to night Bar .\", 'I haue seene nothing Mar .', \"Horatio saies , ' tis but our Fantasie , And will not let beleefe take hold of him Touching this dreaded sight , twice seene of vs ,\", 'Therefore I haue intreated him along With vs , to watch the minutes of this Night , That if againe this Apparition come , He may approue our eyes , and speake to it Hor .', \"Tush , tush , ' twill not appeare Bar .\", 'Sit downe a - while , And let vs once againe assaile your eares , That are so fortified against our Story , What we two Nights haue seene Hor .', 'Well , sit we downe , And let vs heare Barnardo speake of this Barn .', \"Last night of all , When yond same Starre that ' s Westward from the Pole Had made his course t ' illume that part of Heauen Where now it burnes , Marcellus and my selfe , The Bell then beating one Mar .\", 'Peace , breake thee of : Enter the Ghost .', 'Looke where it comes againe Barn .', \"In the same figure , like the King that ' s dead Mar .\", 'Thou art a Scholler ; speake to it', 'Horatio Barn .', 'Lookes it not like the King ?', 'Marke it', 'Horatio Hora .', 'Most like : It harrowes me with fear & wonder Barn .', 'It would be spoke too Mar .', 'Question it Horatio Hor .', 'What art']\n",
            "['[', 'The', 'Tragedie', 'of', 'Hamlet', 'by', 'William', 'Shakespeare', '1599', ']', 'Actus', 'Primus', '.', 'Scoena', 'Prima', '.', 'Enter', 'Barnardo', 'and', 'Francisco', 'two', 'Centinels', '.', 'Barnardo', '.', 'Who', \"'\", 's', 'there', '?', 'Fran', '.', 'Nay', 'answer', 'me', ':', 'Stand', '&', 'vnfold', 'your', 'selfe', 'Bar', '.', 'Long', 'liue', 'the', 'King', 'Fran', '.', 'Barnardo', '?', 'Bar', '.', 'He', 'Fran', '.', 'You', 'come', 'most', 'carefully', 'vpon', 'your', 'houre', 'Bar', '.', \"'\", 'Tis', 'now', 'strook', 'twelue', ',', 'get', 'thee', 'to', 'bed', 'Francisco', 'Fran', '.', 'For', 'this', 'releefe', 'much', 'thankes', ':', \"'\", 'Tis', 'bitter', 'cold', ',', 'And', 'I', 'am', 'sicke', 'at', 'heart', 'Barn', '.', 'Haue', 'you', 'had', 'quiet', 'Guard', '?', 'Fran', '.', 'Not', 'a', 'Mouse', 'stirring', 'Barn', '.', 'Well', ',', 'goodnight', '.', 'If', 'you', 'do', 'meet', 'Horatio', 'and', 'Marcellus', ',', 'the', 'Riuals', 'of', 'my', 'Watch', ',', 'bid', 'them', 'make', 'hast', '.', 'Enter', 'Horatio', 'and', 'Marcellus', '.', 'Fran', '.', 'I', 'thinke', 'I', 'heare', 'them', '.', 'Stand', ':', 'who', \"'\", 's', 'there', '?', 'Hor', '.', 'Friends', 'to', 'this', 'ground', 'Mar', '.', 'And', 'Leige', '-', 'men', 'to', 'the', 'Dane', 'Fran', '.', 'Giue', 'you', 'good', 'night', 'Mar', '.', 'O', 'farwel', 'honest', 'Soldier', ',', 'who', 'hath', 'relieu', \"'\", 'd', 'you', '?', 'Fra', '.', 'Barnardo', 'ha', \"'\", 's', 'my', 'place', ':', 'giue', 'you', 'goodnight', '.', 'Exit', 'Fran', '.', 'Mar', '.', 'Holla', 'Barnardo', 'Bar', '.', 'Say', ',', 'what', 'is', 'Horatio', 'there', '?', 'Hor', '.', 'A', 'peece', 'of', 'him', 'Bar', '.', 'Welcome', 'Horatio', ',', 'welcome', 'good', 'Marcellus', 'Mar', '.', 'What', ',', 'ha', \"'\", 's', 'this', 'thing', 'appear', \"'\", 'd', 'againe', 'to', 'night', 'Bar', '.', 'I', 'haue', 'seene', 'nothing', 'Mar', '.', 'Horatio', 'saies', ',', \"'\", 'tis', 'but', 'our', 'Fantasie', ',', 'And', 'will', 'not', 'let', 'beleefe', 'take', 'hold', 'of', 'him', 'Touching', 'this', 'dreaded', 'sight', ',', 'twice', 'seene', 'of', 'vs', ',', 'Therefore', 'I', 'haue', 'intreated', 'him', 'along', 'With', 'vs', ',', 'to', 'watch', 'the', 'minutes', 'of', 'this', 'Night', ',', 'That', 'if', 'againe', 'this', 'Apparition', 'come', ',', 'He', 'may', 'approue', 'our', 'eyes', ',', 'and', 'speake', 'to', 'it', 'Hor', '.', 'Tush', ',', 'tush', ',', \"'\", 'twill', 'not', 'appeare', 'Bar', '.', 'Sit', 'downe', 'a', '-', 'while', ',', 'And', 'let', 'vs', 'once', 'againe', 'assaile', 'your', 'eares', ',', 'That', 'are', 'so', 'fortified', 'against', 'our', 'Story', ',', 'What', 'we', 'two', 'Nights', 'haue', 'seene', 'Hor', '.', 'Well', ',', 'sit', 'we', 'downe', ',', 'And', 'let', 'vs', 'heare', 'Barnardo', 'speake', 'of', 'this', 'Barn', '.', 'Last', 'night', 'of', 'all', ',', 'When', 'yond', 'same', 'Starre', 'that', \"'\", 's', 'Westward', 'from', 'the', 'Pole', 'Had', 'made', 'his', 'course', 't', \"'\", 'illume', 'that', 'part', 'of', 'Heauen', 'Where', 'now', 'it', 'burnes', ',', 'Marcellus', 'and', 'my', 'selfe', ',', 'The', 'Bell', 'then', 'beating', 'one', 'Mar', '.', 'Peace', ',', 'breake', 'thee', 'of', ':', 'Enter', 'the', 'Ghost', '.', 'Looke', 'where', 'it', 'comes', 'againe', 'Barn', '.', 'In', 'the', 'same', 'figure', ',', 'like', 'the', 'King', 'that', \"'\", 's', 'dead', 'Mar', '.', 'Thou', 'art', 'a', 'Scholler', ';', 'speake', 'to', 'it', 'Horatio', 'Barn', '.', 'Lookes', 'it', 'not', 'like', 'the', 'King', '?', 'Marke', 'it', 'Horatio', 'Hora', '.', 'Most', 'like', ':', 'It', 'harrowes', 'me', 'with', 'fear', '&', 'wonder', 'Barn', '.', 'It', 'would', 'be', 'spoke', 'too', 'Mar', '.', 'Question', 'it', 'Horatio', 'Hor', '.', 'What', 'art']\n"
          ]
        }
      ]
    },
    {
      "cell_type": "markdown",
      "source": [
        "#Removing StopWords using Spacy\n"
      ],
      "metadata": {
        "id": "dgavSb2f8juu"
      }
    },
    {
      "cell_type": "code",
      "source": [
        "# Plain Text\n",
        "print(\"Plain Text:\")\n",
        "filtered_text = [token.text for token in doc if not token.is_stop]\n",
        "print(filtered_text)\n",
        "print()\n",
        "\n",
        "#Corpus\n",
        "print(\"Corpus:\")\n",
        "filtered_corpus_text = [token.text for token in doc_corpus if not token.is_stop]\n",
        "print(filtered_corpus_text)\n",
        "print()"
      ],
      "metadata": {
        "colab": {
          "base_uri": "https://localhost:8080/"
        },
        "id": "qMrEf-wf8Ny8",
        "outputId": "16bd532a-9e8d-4ae8-f40b-a26528f4b7a5"
      },
      "execution_count": null,
      "outputs": [
        {
          "output_type": "stream",
          "name": "stdout",
          "text": [
            "Plain Text:\n",
            "['Hi', ',', 'Numun', '.', '6', 'years', 'old', '.', 'friends', 'panda', '.', 'Reason', 'like', 'sleep', 'eat', 'time', '.', 'eat', '15', 'donuts', 'daily', 'basis', '.']\n",
            "\n",
            "Corpus:\n",
            "['[', 'Tragedie', 'Hamlet', 'William', 'Shakespeare', '1599', ']', 'Actus', 'Primus', '.', 'Scoena', 'Prima', '.', 'Enter', 'Barnardo', 'Francisco', 'Centinels', '.', 'Barnardo', '.', \"'\", 's', '?', 'Fran', '.', 'Nay', 'answer', ':', 'Stand', '&', 'vnfold', 'selfe', 'Bar', '.', 'Long', 'liue', 'King', 'Fran', '.', 'Barnardo', '?', 'Bar', '.', 'Fran', '.', 'come', 'carefully', 'vpon', 'houre', 'Bar', '.', \"'\", 'Tis', 'strook', 'twelue', ',', 'thee', 'bed', 'Francisco', 'Fran', '.', 'releefe', 'thankes', ':', \"'\", 'Tis', 'bitter', 'cold', ',', 'sicke', 'heart', 'Barn', '.', 'Haue', 'quiet', 'Guard', '?', 'Fran', '.', 'Mouse', 'stirring', 'Barn', '.', ',', 'goodnight', '.', 'meet', 'Horatio', 'Marcellus', ',', 'Riuals', 'Watch', ',', 'bid', 'hast', '.', 'Enter', 'Horatio', 'Marcellus', '.', 'Fran', '.', 'thinke', 'heare', '.', 'Stand', ':', \"'\", 's', '?', 'Hor', '.', 'Friends', 'ground', 'Mar', '.', 'Leige', '-', 'men', 'Dane', 'Fran', '.', 'Giue', 'good', 'night', 'Mar', '.', 'O', 'farwel', 'honest', 'Soldier', ',', 'hath', 'relieu', \"'\", 'd', '?', 'Fra', '.', 'Barnardo', 'ha', \"'\", 's', 'place', ':', 'giue', 'goodnight', '.', 'Exit', 'Fran', '.', 'Mar', '.', 'Holla', 'Barnardo', 'Bar', '.', ',', 'Horatio', '?', 'Hor', '.', 'peece', 'Bar', '.', 'Welcome', 'Horatio', ',', 'welcome', 'good', 'Marcellus', 'Mar', '.', ',', 'ha', \"'\", 's', 'thing', 'appear', \"'\", 'd', 'againe', 'night', 'Bar', '.', 'haue', 'seene', 'Mar', '.', 'Horatio', 'saies', ',', \"'\", 'tis', 'Fantasie', ',', 'let', 'beleefe', 'hold', 'Touching', 'dreaded', 'sight', ',', 'twice', 'seene', 'vs', ',', 'haue', 'intreated', 'vs', ',', 'watch', 'minutes', 'Night', ',', 'againe', 'Apparition', 'come', ',', 'approue', 'eyes', ',', 'speake', 'Hor', '.', 'Tush', ',', 'tush', ',', \"'\", 'twill', 'appeare', 'Bar', '.', 'Sit', 'downe', '-', ',', 'let', 'vs', 'againe', 'assaile', 'eares', ',', 'fortified', 'Story', ',', 'Nights', 'haue', 'seene', 'Hor', '.', ',', 'sit', 'downe', ',', 'let', 'vs', 'heare', 'Barnardo', 'speake', 'Barn', '.', 'night', ',', 'yond', 'Starre', \"'\", 's', 'Westward', 'Pole', 'course', 't', \"'\", 'illume', 'Heauen', 'burnes', ',', 'Marcellus', 'selfe', ',', 'Bell', 'beating', 'Mar', '.', 'Peace', ',', 'breake', 'thee', ':', 'Enter', 'Ghost', '.', 'Looke', 'comes', 'againe', 'Barn', '.', 'figure', ',', 'like', 'King', \"'\", 's', 'dead', 'Mar', '.', 'Thou', 'art', 'Scholler', ';', 'speake', 'Horatio', 'Barn', '.', 'Lookes', 'like', 'King', '?', 'Marke', 'Horatio', 'Hora', '.', 'like', ':', 'harrowes', 'fear', '&', 'wonder', 'Barn', '.', 'spoke', 'Mar', '.', 'Question', 'Horatio', 'Hor', '.', 'art']\n",
            "\n"
          ]
        }
      ]
    },
    {
      "cell_type": "markdown",
      "source": [
        "#Lemmatization"
      ],
      "metadata": {
        "id": "a0WxJUv48q8-"
      }
    },
    {
      "cell_type": "code",
      "source": [
        "# Plain Text:\n",
        "print(\"Plain Text:\")\n",
        "\n",
        "plain_text = \"Walking, walked, walks are all forms of word walk\"\n",
        "doc2 = nlp(plain_text)\n",
        "lemmatized_text = \" \".join([token.lemma_ for token in doc2])\n",
        "print(lemmatized_text)\n",
        "\n",
        "print()\n",
        "\n",
        "# Corpus:\n",
        "print(\"Corpus:\")\n",
        "\n",
        "lemmatized_corpus = \" \".join([token.lemma_ for token in doc_corpus])\n",
        "print(lemmatized_corpus)\n",
        "\n",
        "print()"
      ],
      "metadata": {
        "colab": {
          "base_uri": "https://localhost:8080/"
        },
        "id": "rpMPdE4k8pdG",
        "outputId": "83d79674-39ec-4e6d-c419-39f1b2ab30ef"
      },
      "execution_count": null,
      "outputs": [
        {
          "output_type": "stream",
          "name": "stdout",
          "text": [
            "Plain Text:\n",
            "walk , walk , walk be all form of word walk\n",
            "\n",
            "Corpus:\n",
            "[ the Tragedie of Hamlet by William Shakespeare 1599 ] Actus Primus . Scoena Prima . enter Barnardo and Francisco two Centinels . barnardo . who ' s there ? Fran . Nay answer I : stand & vnfold your selfe Bar . long liue the King Fran . barnardo ? bar . he Fran . you come most carefully vpon your houre Bar . ' ti now strook twelue , get thee to bed Francisco Fran . for this releefe much thanke : ' tis bitter cold , and I be sicke at heart Barn . haue you have quiet guard ? Fran . not a Mouse stir Barn . well , goodnight . if you do meet Horatio and Marcellus , the Riuals of my Watch , bid they make hast . enter Horatio and Marcellus . Fran . I thinke I heare they . stand : who ' s there ? hor . friend to this ground Mar . and Leige - man to the Dane Fran . giue you good night Mar . o farwel honest soldier , who hath relieu ' d you ? fra . barnardo ha ' s my place : giue you goodnight . exit Fran . Mar . Holla Barnardo Bar . say , what be Horatio there ? hor . a peece of he Bar . welcome Horatio , welcome good Marcellus Mar . what , ha ' s this thing appear ' d againe to night Bar . I haue seene nothing Mar . horatio say , ' tis but our Fantasie , and will not let beleefe take hold of he touch this dread sight , twice seene of vs , therefore I haue intreate he along with vs , to watch the minute of this Night , that if againe this Apparition come , he may approue our eye , and speake to it Hor . tush , tush , ' twill not appeare Bar . sit downe a - while , and let vs once againe assaile your eare , that be so fortified against our story , what we two Nights haue seene Hor . well , sit we downe , and let vs heare Barnardo speake of this Barn . last night of all , when yond same Starre that ' s Westward from the Pole have make his course t ' illume that part of Heauen where now it burn , Marcellus and my selfe , the Bell then beat one Mar . peace , breake thee of : enter the Ghost . looke where it come againe Barn . in the same figure , like the king that ' s dead Mar . thou art a scholler ; speake to it Horatio Barn . looke it not like the King ? Marke it Horatio Hora . most like : it harrow I with fear & wonder Barn . it would be speak too Mar . question it Horatio Hor . what art\n",
            "\n"
          ]
        }
      ]
    }
  ]
}